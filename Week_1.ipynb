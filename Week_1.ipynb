{
  "nbformat": 4,
  "nbformat_minor": 0,
  "metadata": {
    "colab": {
      "provenance": []
    },
    "kernelspec": {
      "name": "python3",
      "display_name": "Python 3"
    },
    "language_info": {
      "name": "python"
    }
  },
  "cells": [
    {
      "cell_type": "markdown",
      "source": [
        "## **What is Python ?**\n",
        "> Python is a popular, open source high-level programming language released in 1991. It is a platform independent ***interpreted*** language.\n",
        "\n",
        "## **What can it be used for ?**\n",
        "*   Data Science\n",
        "*   Machine Learning & AI\n",
        "*   Web Development (Server Side)\n",
        "*   GUI Development\n",
        "*   Scientific & Numeric Programming\n",
        "\n",
        "## **Why Python ?**\n",
        "1.   Simple, easy-to-learn syntax\n",
        "2.  There exists inbuilt functions for almost all of the frequently used concepts.\n",
        "3.   Supports a wide array of third-party modules and libraries\n"
      ],
      "metadata": {
        "id": "PLVDNGmSISCr"
      }
    },
    {
      "cell_type": "markdown",
      "source": [
        "# **Hello World! in C++**\n",
        "```\n",
        "#include <stdio.h>\n",
        "\n",
        "int main(){\n",
        "    cout<<\"Hello World!\"<<endl;\n",
        "    return 0;\n",
        "}\n",
        "```"
      ],
      "metadata": {
        "id": "N6-hq_DQI4Vt"
      }
    },
    {
      "cell_type": "markdown",
      "source": [
        "# **Python vs. C/C++**\n",
        "\n",
        "1. No  `;` in Python!\n",
        "\n",
        "Unlike C/C++ a python statement does not require a `;` to terminate. But, every python statement must be placed in a new line.\n",
        "\n",
        "2. No `{ }` in Python!\n",
        "\n",
        "Python does not use `{ }` to define blocks in code like in C/C++. Instead, python brings a new headache of ***Indentation***."
      ],
      "metadata": {
        "id": "BadRa-FIJcSq"
      }
    },
    {
      "cell_type": "markdown",
      "source": [
        "## Writing our first program\n",
        "\n"
      ],
      "metadata": {
        "id": "YEHT8AcKE0Bk"
      }
    },
    {
      "cell_type": "code",
      "source": [
        "#Script begins from here\n",
        "print('Hello, World')\n",
        "# Thats all, no imports required"
      ],
      "metadata": {
        "colab": {
          "base_uri": "https://localhost:8080/"
        },
        "id": "7yD3wOd_E3GW",
        "outputId": "b8f0c594-7b61-4680-9484-ec3bb48eb633"
      },
      "execution_count": null,
      "outputs": [
        {
          "output_type": "stream",
          "name": "stdout",
          "text": [
            "Hello, World\n"
          ]
        }
      ]
    },
    {
      "cell_type": "markdown",
      "source": [
        "* The `print()` function also takes two other optional arguements:\n",
        "1. **sep** = *'separator'* : Specify how to separate two objects. Set to ' ' by default.\n",
        "2. **end** = *'end'* : Specify what to print at the end of line. Set to '\\n' by default."
      ],
      "metadata": {
        "id": "3kx340CkqMHc"
      }
    },
    {
      "cell_type": "code",
      "source": [
        "print('Hello', 'World', sep=\"\")\n",
        "print('Hello', 'World')"
      ],
      "metadata": {
        "id": "HZJC4BeRCTwx",
        "colab": {
          "base_uri": "https://localhost:8080/"
        },
        "outputId": "51f64af2-c891-48d6-bf51-ff5ec71b8942"
      },
      "execution_count": null,
      "outputs": [
        {
          "output_type": "stream",
          "name": "stdout",
          "text": [
            "HelloWorld\n",
            "Hello World\n"
          ]
        }
      ]
    },
    {
      "cell_type": "code",
      "source": [
        "print(\"Hello\", end=\"\")\n",
        "print(\"World!\")"
      ],
      "metadata": {
        "id": "tqIPrJBUJ9rU",
        "outputId": "7bf7f146-d0f0-45dc-966f-4121d6dbb3fc",
        "colab": {
          "base_uri": "https://localhost:8080/"
        }
      },
      "execution_count": null,
      "outputs": [
        {
          "output_type": "stream",
          "name": "stdout",
          "text": [
            "HelloWorld!\n"
          ]
        }
      ]
    },
    {
      "cell_type": "code",
      "source": [
        "#Writing two statements in the same line is invalid in python but not in C/C++\n",
        "a=1\n",
        "b=5\n",
        "print(a+b)"
      ],
      "metadata": {
        "colab": {
          "base_uri": "https://localhost:8080/"
        },
        "id": "cv052RIhJrQs",
        "outputId": "10675946-8a59-428c-c3c8-2f444fa674c9"
      },
      "execution_count": null,
      "outputs": [
        {
          "output_type": "stream",
          "name": "stdout",
          "text": [
            "6\n"
          ]
        }
      ]
    },
    {
      "cell_type": "markdown",
      "source": [
        "# **Indentation**"
      ],
      "metadata": {
        "id": "AeZ_6-auKvip"
      }
    },
    {
      "cell_type": "markdown",
      "source": [
        "1. Python uses the idea of indentation to highlight the blocks of code. While in C/C++ or other programming languages it is just for the sake of code readability.\n",
        "\n",
        "2. Wrong indentation can cause **undetectable** errors to your code.\n"
      ],
      "metadata": {
        "id": "2IhvekkNK66d"
      }
    },
    {
      "cell_type": "code",
      "source": [
        "# Python program to show indentation\n",
        "x=10\n",
        "if x>13:\n",
        "  print('Hello')\n",
        "else:\n",
        "  print('World')\n",
        "print('This is indentation')"
      ],
      "metadata": {
        "colab": {
          "base_uri": "https://localhost:8080/"
        },
        "id": "91wHAsvBLnjs",
        "outputId": "bea32dca-9a8e-4281-e556-8a48c6769c1b"
      },
      "execution_count": null,
      "outputs": [
        {
          "output_type": "stream",
          "name": "stdout",
          "text": [
            "World\n",
            "This is indentation\n"
          ]
        }
      ]
    },
    {
      "cell_type": "markdown",
      "source": [
        "## **Variables in Python**\n",
        "\n",
        "*   Python has no command to declare variable. Like 'int x=10;'.\n",
        "*   But the rules for variable naming are similar to that in C/C++. A variable name can contain only alphanumeric characters and underscores and cannot start with a number. They are case-sensitive.\n",
        "*  Variables do not require a data type when initialized and data type of any variable can be changed as required.\n",
        "* A variable is created whenever it is initialized.\n"
      ],
      "metadata": {
        "id": "H-bdOCPQP_iu"
      }
    },
    {
      "cell_type": "code",
      "source": [
        "x=222222222222222222222222222222222222222222222222222222222222222\n",
        "print(x)"
      ],
      "metadata": {
        "colab": {
          "base_uri": "https://localhost:8080/"
        },
        "id": "aS8rg3f1RZzN",
        "outputId": "4dcf0b1b-3c35-4dad-d470-89a2193f194d"
      },
      "execution_count": null,
      "outputs": [
        {
          "output_type": "stream",
          "name": "stdout",
          "text": [
            "222222222222222222222222222222222222222222222222222222222222222\n"
          ]
        }
      ]
    },
    {
      "cell_type": "markdown",
      "source": [
        "\n",
        "\n",
        "*   Multiple variables can be initialized in a single statement. For eg.\n"
      ],
      "metadata": {
        "id": "PnVLFmmaRs49"
      }
    },
    {
      "cell_type": "code",
      "source": [
        "x,y,z=1, 2.2, \"Hello\"\n",
        "print(f'x = {x} y = {y} z = {z}')"
      ],
      "metadata": {
        "colab": {
          "base_uri": "https://localhost:8080/"
        },
        "id": "sY0ZDvY6SA5G",
        "outputId": "287f6f82-4d33-4d0c-e78b-f9d330fba644"
      },
      "execution_count": null,
      "outputs": [
        {
          "output_type": "stream",
          "name": "stdout",
          "text": [
            "x = 1 y = 2.2 z = Hello\n"
          ]
        }
      ]
    },
    {
      "cell_type": "markdown",
      "source": [
        "# Operators in Python"
      ],
      "metadata": {
        "id": "xC2erF9XLEfo"
      }
    },
    {
      "cell_type": "markdown",
      "source": [
        "## **Arithmetic Operators**\n",
        "\n",
        "Operator | Name\n",
        "--- | ---\n",
        "`+` | Addition\n",
        "`-` | Subtraction\n",
        "`*` | Multiplication\n",
        "`/` | Division\n",
        "`%` | Modulus\n",
        "`**`| Exponentiation (Power)\n",
        "`//`| Floor division"
      ],
      "metadata": {
        "id": "6A8hSCrGX5J7"
      }
    },
    {
      "cell_type": "code",
      "source": [
        "# Arithmetic Operators\n",
        "x=10\n",
        "y=4\n",
        "print(x+y) # Addition Operator\n",
        "print(x-y) # Subtraction Operator\n",
        "print(x*y) # Multiplication Operator\n",
        "print(x/y) # Division Operator\n",
        "print(x//y) # Floor Division Operator\n",
        "print(x**y) # pow(x,y)"
      ],
      "metadata": {
        "colab": {
          "base_uri": "https://localhost:8080/"
        },
        "id": "sfqlbBraSiUu",
        "outputId": "96d58289-8574-4958-8d97-3ea85291db46"
      },
      "execution_count": null,
      "outputs": [
        {
          "output_type": "stream",
          "name": "stdout",
          "text": [
            "14\n",
            "6\n",
            "40\n",
            "2.5\n",
            "2\n",
            "10000\n"
          ]
        }
      ]
    },
    {
      "cell_type": "markdown",
      "source": [
        "## **Assignment Operators**\n",
        "\n",
        "Operator &emsp; &emsp;| Use  &emsp;  &emsp;  &emsp;   | Equivalent\n",
        "---- |----------|------------\n",
        "`=`  | \tx = 7   |   x = 7\n",
        "`+=` |\tx += 7  | \tx = x + 7\n",
        "`-=` |\tx -= 7  | \tx = x - 7\n",
        "`*=` |\tx \\*= 7 |\tx = x * 7\n",
        "`/=` |\tx /= 7  |\tx = x / 7\n",
        "`%=` |\tx %= 7  |\tx = x % 7\n",
        "`//=`|\tx //= 7 |\tx = x // 7\n",
        "`**=`|\tx **= 7 |\tx = x ** 7\n",
        "`&=` |\tx &= 7  |\tx = x & 7\n",
        "`\\|=`|\tx \\|= 7 |   x = x \\| 7\n",
        "`^=` |\tx ^= 7  |\tx = x ^ 7\n",
        "`>>=`|\tx >>= 7 |\tx = x >> 7\n",
        "`<<=`|\tx <<= 7 |\tx = x << 7"
      ],
      "metadata": {
        "id": "KPgwZAPpXrKU"
      }
    },
    {
      "cell_type": "code",
      "source": [
        "# Assignment Operators\n",
        "x = 4;\n",
        "x **= 3;\n",
        "print(x)"
      ],
      "metadata": {
        "id": "eUmaAPW_UFSV",
        "colab": {
          "base_uri": "https://localhost:8080/"
        },
        "outputId": "301710fa-9df0-44eb-ff3a-dfc3f8f897b3"
      },
      "execution_count": null,
      "outputs": [
        {
          "output_type": "stream",
          "name": "stdout",
          "text": [
            "64\n"
          ]
        }
      ]
    },
    {
      "cell_type": "markdown",
      "source": [
        "## **Python Logical Operators**\n",
        "\n",
        "* In python logical operators are used directly by name. We do not have `&&` and `||` in python.\n",
        "\n",
        "Operator | Description | Example\n",
        "---|---|---\n",
        "`and` | True if both conditions are true |\tx < 4 and  x < 14\n",
        "`or`\t| True if any one of the condition is true |\tx < 10 or x > 20\n",
        "`not`\t| Returns False if the result is True and vice versa &nbsp;|\tnot(x < 5 and x < 10)"
      ],
      "metadata": {
        "id": "x_7OlCRnYLRZ"
      }
    },
    {
      "cell_type": "code",
      "source": [
        "# Logical Operators\n",
        "# In python we use logical operators directly by their name instead of && and ||\n",
        "\n",
        "x=10\n",
        "if x>5 and x<15:\n",
        "  print('Hello')\n",
        "if x>15 or x<20:\n",
        "  print('World')"
      ],
      "metadata": {
        "id": "XpITRXc6UOP6",
        "colab": {
          "base_uri": "https://localhost:8080/"
        },
        "outputId": "a31dba37-373b-4e6e-d34b-6787bf967b97"
      },
      "execution_count": null,
      "outputs": [
        {
          "output_type": "stream",
          "name": "stdout",
          "text": [
            "Hello\n",
            "World\n"
          ]
        }
      ]
    },
    {
      "cell_type": "markdown",
      "source": [
        "## **Taking input in python**"
      ],
      "metadata": {
        "id": "omJSJOOlMX-1"
      }
    },
    {
      "cell_type": "markdown",
      "source": [
        "Taking input in python is fairly easy and we use the input() function to do so"
      ],
      "metadata": {
        "id": "LjPBLLaTWPsf"
      }
    },
    {
      "cell_type": "code",
      "source": [
        "name = input(\"What is your name ? \")\n",
        "print(\"Welcome \" + name)"
      ],
      "metadata": {
        "colab": {
          "base_uri": "https://localhost:8080/"
        },
        "id": "6IJ55JStWgGR",
        "outputId": "8b3caa98-b25b-4471-bffd-06dbc3cc8572"
      },
      "execution_count": null,
      "outputs": [
        {
          "output_type": "stream",
          "name": "stdout",
          "text": [
            "What is your name ? Riya\n",
            "Welcome Riya\n"
          ]
        }
      ]
    },
    {
      "cell_type": "code",
      "source": [
        "x= input()\n",
        "print(x, type(x)) # Input is taken by default in string type, so we need to typecast."
      ],
      "metadata": {
        "colab": {
          "base_uri": "https://localhost:8080/"
        },
        "id": "PrMzsg-mWqkg",
        "outputId": "e32fc073-8e6c-469d-8811-e526390fa525"
      },
      "execution_count": null,
      "outputs": [
        {
          "output_type": "stream",
          "name": "stdout",
          "text": [
            "56\n",
            "56 <class 'str'>\n"
          ]
        }
      ]
    },
    {
      "cell_type": "markdown",
      "source": [
        "##**Type Casting**\n",
        "\n",
        "* Type casting can be used to convert variables from one type to another."
      ],
      "metadata": {
        "id": "3DkDYpnCMtl1"
      }
    },
    {
      "cell_type": "code",
      "source": [
        "x = float(input(\"Enter a number: \"))\n",
        "print(x + 10)"
      ],
      "metadata": {
        "colab": {
          "base_uri": "https://localhost:8080/"
        },
        "id": "GiSCyxRSXVTl",
        "outputId": "9b38d547-6ed6-46af-b69f-1bf07e15d558"
      },
      "execution_count": null,
      "outputs": [
        {
          "output_type": "stream",
          "name": "stdout",
          "text": [
            "Enter a number: 15\n",
            "25.0\n"
          ]
        }
      ]
    },
    {
      "cell_type": "markdown",
      "source": [
        "Type casting can be mainly done with these data type function:\n",
        "* `str()` : Convert int or float type to string\n",
        "* `int()` : Convert string or float type to integer\n",
        "* `float()` : Convert string or int type to float"
      ],
      "metadata": {
        "id": "XbWyHBO5XaUq"
      }
    },
    {
      "cell_type": "code",
      "source": [
        "x_int = 10\n",
        "x_str = \"12\"\n",
        "x_float = 14.7\n",
        "\n",
        "# str()\n",
        "print(\"Result: \" + str(x_int));\n",
        "print(\"Result: \" + str(x_float));\n",
        "print('')\n",
        "\n",
        "# int()\n",
        "print(3 + x_float)\n",
        "print(3 + int(x_float))\n",
        "print(4 + int(x_str), type(int(x_str)))\n",
        "print('')\n",
        "\n",
        "# float()\n",
        "print(1.2 + float(x_int), type(float(x_int)))\n",
        "print(1.3 + float(x_str))\n",
        "print('')\n",
        "\n",
        "# original variable types\n",
        "print(type(x_int), type(x_str), type(x_float))"
      ],
      "metadata": {
        "colab": {
          "base_uri": "https://localhost:8080/"
        },
        "id": "m9uVsvlNXdUA",
        "outputId": "03a27a12-4a0f-4539-f8d7-9c4d22023720"
      },
      "execution_count": null,
      "outputs": [
        {
          "output_type": "stream",
          "name": "stdout",
          "text": [
            "Result: 10\n",
            "Result: 14.7\n",
            "\n",
            "17.7\n",
            "17\n",
            "16 <class 'int'>\n",
            "\n",
            "11.2 <class 'float'>\n",
            "13.3\n",
            "\n",
            "<class 'int'> <class 'str'> <class 'float'>\n"
          ]
        }
      ]
    },
    {
      "cell_type": "markdown",
      "source": [
        "* One must note that the type casting functions do not change the type of the original variable but instead return a new value of the desired type. To change type of the original variable one can use,"
      ],
      "metadata": {
        "id": "pdKhCw1dXjJ4"
      }
    },
    {
      "cell_type": "code",
      "source": [
        "x = \"10\"\n",
        "print(type(x))\n",
        "y = int(x)\n",
        "print(type(x), type(y))"
      ],
      "metadata": {
        "colab": {
          "base_uri": "https://localhost:8080/"
        },
        "id": "1q1NOd3CXkAm",
        "outputId": "52c17b31-22ff-4df5-8f19-1cd48d00bf68"
      },
      "execution_count": null,
      "outputs": [
        {
          "output_type": "stream",
          "name": "stdout",
          "text": [
            "<class 'str'>\n",
            "<class 'str'> <class 'int'>\n"
          ]
        }
      ]
    },
    {
      "cell_type": "markdown",
      "source": [
        "## Coding Problem - 1"
      ],
      "metadata": {
        "id": "WAx_O-RUS1n1"
      }
    },
    {
      "cell_type": "code",
      "source": [
        "# Write a program that takes a user's name and age as input and prints a Hello World! message that includes their name and age.\n",
        "name = input(\"What is your name? \")\n",
        "age = int(input(\"What is your age? \"))\n",
        "print(f\"Hello! Your name is {name} and you are {age} years old.\")\n"
      ],
      "metadata": {
        "id": "EuPLCH6WS6eG",
        "outputId": "08ed166c-531f-4801-b077-13cb5122f932",
        "colab": {
          "base_uri": "https://localhost:8080/"
        }
      },
      "execution_count": 2,
      "outputs": [
        {
          "output_type": "stream",
          "name": "stdout",
          "text": [
            "What is your name? Prachi\n",
            "What is your age? 21\n",
            "Hello! Your name is Prachi and you are 21 years old.\n"
          ]
        }
      ]
    },
    {
      "cell_type": "code",
      "source": [
        "# Create a program that swaps the values of two variables without using a third variable.\n",
        "a=10\n",
        "b=5\n",
        "\n",
        "print(\"Before Swapping\")\n",
        "print(f\"a = {a} and b = {b}\")\n",
        "\n",
        "a=a+b\n",
        "b=a-b\n",
        "a=a-b\n",
        "\n",
        "print(\"After Swapping\")\n",
        "print(f\"a = {a} and b = {b}\")"
      ],
      "metadata": {
        "id": "GDM0iGNXTEfT",
        "outputId": "32eb99d1-9e5a-470c-cd95-f020e0ee5d69",
        "colab": {
          "base_uri": "https://localhost:8080/"
        }
      },
      "execution_count": 4,
      "outputs": [
        {
          "output_type": "stream",
          "name": "stdout",
          "text": [
            "Before Swapping\n",
            "a = 10 and b = 5\n",
            "After Swapping\n",
            "a = 5 and b = 10\n"
          ]
        }
      ]
    },
    {
      "cell_type": "markdown",
      "source": [
        "# **Strings in Python**\n",
        "\n",
        "* Any data within double quotes `\" \"` or single quotes `' '` is treated as a string in Python.\n"
      ],
      "metadata": {
        "id": "7ipifTRTQ1wa"
      }
    },
    {
      "cell_type": "code",
      "source": [
        "myString = 'Python is Fun!'\n",
        "myString = \"Python is Fun!\""
      ],
      "metadata": {
        "id": "yVb4UORzRCGu"
      },
      "execution_count": null,
      "outputs": []
    },
    {
      "cell_type": "markdown",
      "source": [
        "* A multiline string can be assigned to a variable using three quotes."
      ],
      "metadata": {
        "id": "xcUwB6ZZRCyL"
      }
    },
    {
      "cell_type": "code",
      "source": [
        "myMultiString = \"\"\"This is\n",
        "a multiline\n",
        "string.\"\"\"\n",
        "print(myMultiString)"
      ],
      "metadata": {
        "id": "vUYafE2_RFf2",
        "colab": {
          "base_uri": "https://localhost:8080/"
        },
        "outputId": "dd71ef49-9a1b-44e2-8a7e-f7dec14891eb"
      },
      "execution_count": null,
      "outputs": [
        {
          "output_type": "stream",
          "name": "stdout",
          "text": [
            "This is\n",
            "a multiline\n",
            "string.\n"
          ]
        }
      ]
    },
    {
      "cell_type": "markdown",
      "source": [
        "* Using this as a workaround, we can simply enclose code between three quotes (single or double) to commment them. Python will treat it as a string which is not assigned to any variable and will hence ignore it.\n"
      ],
      "metadata": {
        "id": "3KO8xq6ARP3u"
      }
    },
    {
      "cell_type": "code",
      "source": [
        "'''\n",
        "print(\"Hello!\")\n",
        "print(\"World\")\n",
        "'''\n",
        "print(\"I Love Python!\")"
      ],
      "metadata": {
        "id": "IfznS99WRS1f",
        "colab": {
          "base_uri": "https://localhost:8080/"
        },
        "outputId": "881c8f31-52ec-46ed-ba0a-ae4280be0d86"
      },
      "execution_count": null,
      "outputs": [
        {
          "output_type": "stream",
          "name": "stdout",
          "text": [
            "I Love Python!\n"
          ]
        }
      ]
    },
    {
      "cell_type": "markdown",
      "source": [
        "* Python is packed with many string ***methods*** which make working with strings very easy."
      ],
      "metadata": {
        "id": "DaIvZ_d4RXnz"
      }
    },
    {
      "cell_type": "code",
      "source": [
        "s1 = \"ThisisaString\"\n",
        "\n",
        "# Formatting\n",
        "print(s1.upper())\n",
        "print(s1.lower())\n",
        "print(s1.swapcase())\n",
        "print()\n",
        "\n",
        "# Boolean checks\n",
        "print(s1.isalpha())\n",
        "print(s1.isnumeric())"
      ],
      "metadata": {
        "id": "lmYyoeT_RYzy",
        "colab": {
          "base_uri": "https://localhost:8080/"
        },
        "outputId": "07cbd7ee-3e74-4c1c-8dbb-8c1c49908c5e"
      },
      "execution_count": null,
      "outputs": [
        {
          "output_type": "stream",
          "name": "stdout",
          "text": [
            "THISISASTRING\n",
            "thisisastring\n",
            "tHISISAsTRING\n",
            "\n",
            "True\n",
            "False\n"
          ]
        }
      ]
    },
    {
      "cell_type": "markdown",
      "source": [
        "## **`split()` and `join()` string methods**\n",
        "\n",
        "* `split()` : Splits the string in chunks separated by the input arguement.\n",
        "* `join()` : Joins the items in iterable given as arguement, with the calling string as separator and returns new string."
      ],
      "metadata": {
        "id": "fGhp-TQXRcVg"
      }
    },
    {
      "cell_type": "code",
      "source": [
        "sample = \"Python_is_Fun!\"\n",
        "stringList = sample.split('_')   #Default separator is ' '\n",
        "print(stringList)"
      ],
      "metadata": {
        "id": "U6bnGE7QRfk1",
        "colab": {
          "base_uri": "https://localhost:8080/"
        },
        "outputId": "69aa6414-8288-4473-8d06-8458a8723d87"
      },
      "execution_count": null,
      "outputs": [
        {
          "output_type": "stream",
          "name": "stdout",
          "text": [
            "['Python', 'is', 'Fun!']\n"
          ]
        }
      ]
    },
    {
      "cell_type": "code",
      "source": [
        "separator = \"_\"\n",
        "joinedStr = \"*+*+*\".join(stringList)  # stringList is a python iterable\n",
        "print(joinedStr)"
      ],
      "metadata": {
        "id": "aIDyceArRkt8",
        "colab": {
          "base_uri": "https://localhost:8080/"
        },
        "outputId": "95b9d3bb-a8ef-43ae-ca48-3c7c397f6f56"
      },
      "execution_count": null,
      "outputs": [
        {
          "output_type": "stream",
          "name": "stdout",
          "text": [
            "Python*+*+*is*+*+*Fun!\n"
          ]
        }
      ]
    },
    {
      "cell_type": "markdown",
      "metadata": {
        "id": "TAcvS5CXwc55"
      },
      "source": [
        "# **Python Loops**\n",
        "\n",
        "\n"
      ]
    },
    {
      "cell_type": "markdown",
      "metadata": {
        "id": "ckYq3agCzvWx"
      },
      "source": [
        "## **While Loop**\n",
        "* The while loop will execute the code block as long as the given condition is true."
      ]
    },
    {
      "cell_type": "code",
      "execution_count": null,
      "metadata": {
        "colab": {
          "base_uri": "https://localhost:8080/"
        },
        "id": "d16yQYCvw2zQ",
        "outputId": "c2207366-30e3-45f5-ab8e-5f24e3db93e8"
      },
      "outputs": [
        {
          "name": "stdout",
          "output_type": "stream",
          "text": [
            "10 9 8 7 6 5 4 3 2 1 "
          ]
        }
      ],
      "source": [
        "counter = 10\n",
        "while counter > 0:\n",
        "    print(counter, end=' ')\n",
        "    counter -= 1                # Python does not support counter --"
      ]
    },
    {
      "cell_type": "markdown",
      "metadata": {
        "id": "8kjyQ928xKYR"
      },
      "source": [
        "### `break` statement :\n",
        " Used to break out of the loop without the loop condition being evaluated to false."
      ]
    },
    {
      "cell_type": "code",
      "execution_count": null,
      "metadata": {
        "colab": {
          "base_uri": "https://localhost:8080/"
        },
        "id": "T1zyp4nBxWWl",
        "outputId": "f50b8827-d61c-4db7-f4a4-0b49b4d69db1"
      },
      "outputs": [
        {
          "output_type": "stream",
          "name": "stdout",
          "text": [
            "10 9 8 7 6 5 \n",
            " 5\n"
          ]
        }
      ],
      "source": [
        "counter = 10\n",
        "while counter > 0:\n",
        "    print(counter, end=' ')\n",
        "    if counter == 5:\n",
        "        break\n",
        "    counter -= 1\n",
        "print('\\n',counter) #Can anyone guess the value of the counter here?"
      ]
    },
    {
      "cell_type": "markdown",
      "metadata": {
        "id": "dX4qUnoaxmLh"
      },
      "source": [
        "### `continue` statement:\n",
        "Used to *continue* the next iteration of the loop without executing the lines after this statement.\n"
      ]
    },
    {
      "cell_type": "code",
      "execution_count": null,
      "metadata": {
        "colab": {
          "base_uri": "https://localhost:8080/"
        },
        "id": "DM0uIKyXxhlt",
        "outputId": "8744da82-4ae3-4534-9358-7255e0e40cab"
      },
      "outputs": [
        {
          "output_type": "stream",
          "name": "stdout",
          "text": [
            "9 7 5 3 1 "
          ]
        }
      ],
      "source": [
        "counter = 10\n",
        "while counter > 0:\n",
        "    if counter%2 == 1:\n",
        "        print(counter, end=' ')\n",
        "        counter -= 1\n",
        "        continue                    # Can you spot a bug in this code ?\n",
        "    # print(counter, end=' ')\n",
        "    counter -= 1"
      ]
    },
    {
      "cell_type": "markdown",
      "metadata": {
        "id": "gRM9XY6lyay1"
      },
      "source": [
        "### `else` statement in Loop\n",
        "\n",
        "In python, we can write an `else` block after the loop. This block is executed once the loop condition evaluates to false."
      ]
    },
    {
      "cell_type": "code",
      "execution_count": null,
      "metadata": {
        "colab": {
          "base_uri": "https://localhost:8080/"
        },
        "id": "ZsobmxJ8y4hV",
        "outputId": "ff70dfde-e905-48ce-9efa-4c4f370f8a1e"
      },
      "outputs": [
        {
          "output_type": "stream",
          "name": "stdout",
          "text": [
            "10 "
          ]
        }
      ],
      "source": [
        "counter = 10\n",
        "while counter > 0:\n",
        "    print(counter, end=' ')\n",
        "    break\n",
        "    counter -= 1\n",
        "else:\n",
        "    print(\"\\nFinal Counter:\", counter)"
      ]
    },
    {
      "cell_type": "markdown",
      "metadata": {
        "id": "m7A3r_O-zchj"
      },
      "source": [
        "* If `break` statement is used to exit loop, `else` block will NOT be executed."
      ]
    },
    {
      "cell_type": "markdown",
      "metadata": {
        "id": "zbNwiHOAzz4Z"
      },
      "source": [
        "## **For Loop**\n",
        "* The for loop is usually executed for a range of numbers or items.\n"
      ]
    },
    {
      "cell_type": "code",
      "execution_count": null,
      "metadata": {
        "colab": {
          "base_uri": "https://localhost:8080/"
        },
        "id": "D-8jomOi0JoP",
        "outputId": "818366e9-ceff-4ff8-d666-df71084de6b8"
      },
      "outputs": [
        {
          "output_type": "stream",
          "name": "stdout",
          "text": [
            "Python\n",
            "C\n",
            "Ruby\n",
            "Java\n"
          ]
        }
      ],
      "source": [
        "lang = [\"Python\", \"C\", \"Ruby\", \"Java\"]\n",
        "for x in lang:             # x serves as a temp variable\n",
        "    print(x)"
      ]
    },
    {
      "cell_type": "code",
      "execution_count": null,
      "metadata": {
        "colab": {
          "base_uri": "https://localhost:8080/"
        },
        "id": "JY_Z9A2F0p4y",
        "outputId": "b2edc2f0-3bb5-4ccb-c475-f88140e35ae2"
      },
      "outputs": [
        {
          "output_type": "stream",
          "name": "stdout",
          "text": [
            "I\n",
            "n\n",
            "d\n",
            "i\n",
            "a\n"
          ]
        }
      ],
      "source": [
        "# Looping through a string\n",
        "for c in \"India\":\n",
        "  print(c)"
      ]
    },
    {
      "cell_type": "markdown",
      "metadata": {
        "id": "SIDTd8Th0kky"
      },
      "source": [
        "### **`range()` function**\n",
        "\n",
        "* The `range(start, end, step)` function is used to create a sequence of numbers from `start` to `end` with an increment of `step`.\n",
        "* `end` is not included in the sequence.\n",
        "\n",
        "`range()` can be used in three ways:"
      ]
    },
    {
      "cell_type": "code",
      "execution_count": null,
      "metadata": {
        "colab": {
          "base_uri": "https://localhost:8080/"
        },
        "id": "ahsmnHLR1rYL",
        "outputId": "b64ea06c-e5ed-49af-99c2-a78ca683ddc6"
      },
      "outputs": [
        {
          "output_type": "stream",
          "name": "stdout",
          "text": [
            "0 1 2 3 4 "
          ]
        }
      ],
      "source": [
        "# If only a single arguement is given, range defaults start value to 0.\n",
        "# Value of step is taken 1 by default.\n",
        "\n",
        "for i in range(5):\n",
        "    print(i, end=\" \")"
      ]
    },
    {
      "cell_type": "code",
      "execution_count": null,
      "metadata": {
        "colab": {
          "base_uri": "https://localhost:8080/"
        },
        "id": "qVJb5Wki2c9y",
        "outputId": "1fa795f1-1b2c-4d22-f885-99210f83af31"
      },
      "outputs": [
        {
          "output_type": "stream",
          "name": "stdout",
          "text": [
            "2 3 4 5 6 "
          ]
        }
      ],
      "source": [
        "for i in range(2, 7):\n",
        "    print(i, end=\" \")"
      ]
    },
    {
      "cell_type": "code",
      "execution_count": null,
      "metadata": {
        "colab": {
          "base_uri": "https://localhost:8080/"
        },
        "id": "-j9zl3AL2hai",
        "outputId": "cd824987-5c7d-4500-93c0-740d0b87ff27"
      },
      "outputs": [
        {
          "output_type": "stream",
          "name": "stdout",
          "text": [
            "10 9 8 7 6 5 "
          ]
        }
      ],
      "source": [
        "for i in range(10, 4, -1):\n",
        "    print(i, end=\" \")"
      ]
    },
    {
      "cell_type": "code",
      "execution_count": null,
      "metadata": {
        "colab": {
          "base_uri": "https://localhost:8080/"
        },
        "id": "rDD6UKu9TFRF",
        "outputId": "db9132ea-6ccd-4f8b-eee2-adb915ee0b7c"
      },
      "outputs": [
        {
          "output_type": "stream",
          "name": "stdout",
          "text": [
            "0\n",
            "1\n",
            "2\n",
            "3\n"
          ]
        }
      ],
      "source": [
        "ls = [0, 1, 2, 3]\n",
        "for i in range(len(ls)):\n",
        "    print(ls[i])"
      ]
    },
    {
      "cell_type": "markdown",
      "source": [
        "## Coding Problem-2"
      ],
      "metadata": {
        "id": "rQFYTSExTbUB"
      }
    },
    {
      "cell_type": "code",
      "source": [
        "# Create a program that prints the first 10 numbers of the Fibonacci sequence.\n",
        "n = 10\n",
        "a = 0\n",
        "b = 1\n",
        "\n",
        "for i in range(n+1):\n",
        "  print(a, end=' ')\n",
        "  a = b\n",
        "  b = a+b"
      ],
      "metadata": {
        "id": "1W9f-6RiTeaq",
        "colab": {
          "base_uri": "https://localhost:8080/"
        },
        "outputId": "2d847075-7af6-4bd4-a17c-7e2752b62ba4"
      },
      "execution_count": 5,
      "outputs": [
        {
          "output_type": "stream",
          "name": "stdout",
          "text": [
            "0 1 2 4 8 16 32 64 128 256 512 "
          ]
        }
      ]
    },
    {
      "cell_type": "markdown",
      "source": [
        "# **Python Collections**"
      ],
      "metadata": {
        "id": "YnQeYzzaSLrX"
      }
    },
    {
      "cell_type": "markdown",
      "source": [
        "## **Lists**\n",
        "\n",
        "* Python lists are used to store multiple items in a single variable.\n",
        "* An important point about lists is that they can comprise of multiple types of variables.\n",
        "* Lists are 0-indexed and any list item can be accessed using this index.\n",
        "* List items are mutable (changeable)."
      ],
      "metadata": {
        "id": "zX_bDbkDHCCf"
      }
    },
    {
      "cell_type": "code",
      "source": [
        "myList = [10, 'ListItem', 14.5, 10j]\n",
        "print(type(myList[0]), type(myList[1]), type(myList[2]), type(myList[3]))\n",
        "\n",
        "# We can get the length of a list (or any other iterable) using len()\n",
        "print(\"Length of List:\", len(myList))"
      ],
      "metadata": {
        "id": "jyyPPzblHHgo",
        "colab": {
          "base_uri": "https://localhost:8080/"
        },
        "outputId": "d7b17929-96bd-49c0-e4c7-14a6d0da8451"
      },
      "execution_count": null,
      "outputs": [
        {
          "output_type": "stream",
          "name": "stdout",
          "text": [
            "<class 'int'> <class 'str'> <class 'float'> <class 'complex'>\n",
            "Length of List: 4\n"
          ]
        }
      ]
    },
    {
      "cell_type": "markdown",
      "source": [
        "### **List Indexing**\n",
        "\n",
        "* Lists are 0-indexed.\n",
        "* Python also supports negative indexing. In negative indexing, the last item is assigned index `-1` and decreases by 1 as we move towards the first item."
      ],
      "metadata": {
        "id": "weeOHvB6HLFX"
      }
    },
    {
      "cell_type": "code",
      "source": [
        "ls = [10, 20, 30, 40, 50, 60]\n",
        "\n",
        "print(ls[5], ls[-1])\n",
        "print(ls[4], ls[-2])\n",
        "print(ls[0], ls[-6])"
      ],
      "metadata": {
        "id": "ii4cKgX8HL_H",
        "colab": {
          "base_uri": "https://localhost:8080/"
        },
        "outputId": "3e9705ec-d7ea-4b73-d9d9-68ee2bc2980d"
      },
      "execution_count": null,
      "outputs": [
        {
          "output_type": "stream",
          "name": "stdout",
          "text": [
            "60 60\n",
            "50 50\n",
            "10 10\n"
          ]
        }
      ]
    },
    {
      "cell_type": "markdown",
      "source": [
        "* Python also supports range indexing to get a range of items from a list.\n",
        "* The range index is of the form `[i:j]`, which returns items from index `i` to `j-1` excluding item at index `j`"
      ],
      "metadata": {
        "id": "-UkzMAQ2HWDe"
      }
    },
    {
      "cell_type": "code",
      "source": [
        "fruits = [\"apple\", \"mango\", \"orange\", \"kiwi\", \"banana\", \"cherry\", \"melon\"]\n",
        "\n",
        "print(fruits[1:3])      # Elements [1] and [2] are printed."
      ],
      "metadata": {
        "colab": {
          "base_uri": "https://localhost:8080/"
        },
        "id": "_fmohqLBHgLo",
        "outputId": "839051dd-3510-4069-9aa0-1698ed8ef839"
      },
      "execution_count": null,
      "outputs": [
        {
          "output_type": "stream",
          "name": "stdout",
          "text": [
            "['mango', 'orange']\n"
          ]
        }
      ]
    },
    {
      "cell_type": "code",
      "source": [
        "# If first index is left empty, it will default to first index, i.e 0.\n",
        "print(fruits[:3])"
      ],
      "metadata": {
        "colab": {
          "base_uri": "https://localhost:8080/"
        },
        "id": "Z70a3ll_Hhc5",
        "outputId": "d519aa75-6504-4abf-e261-6cd27143c81f"
      },
      "execution_count": null,
      "outputs": [
        {
          "output_type": "stream",
          "name": "stdout",
          "text": [
            "['apple', 'mango', 'orange']\n"
          ]
        }
      ]
    },
    {
      "cell_type": "code",
      "source": [
        "# If last index is left empty, it will default to last index.\n",
        "print(fruits[1:])"
      ],
      "metadata": {
        "colab": {
          "base_uri": "https://localhost:8080/"
        },
        "id": "CEaFXHu6HmAU",
        "outputId": "912dbc22-5dd2-495f-e9ad-87cfc72a5937"
      },
      "execution_count": null,
      "outputs": [
        {
          "output_type": "stream",
          "name": "stdout",
          "text": [
            "['mango', 'orange', 'kiwi', 'banana', 'cherry', 'melon']\n"
          ]
        }
      ]
    },
    {
      "cell_type": "code",
      "source": [
        "# Negative indexing can also be used here\n",
        "print(fruits[-4:-2])\n",
        "\n",
        "print(fruits[-2:-4]) # What will this print? and Why? # Can you rectify this?\n",
        "'''Answer:\n",
        "Slicing with [-2:-4] starts at \"cherry\" and attempts to go up to but not including \"kiwi\".\n",
        "Since slicing moves from left to right by default, and the starting index is to the right of the stopping index, the result is an empty list'''"
      ],
      "metadata": {
        "colab": {
          "base_uri": "https://localhost:8080/",
          "height": 87
        },
        "id": "qAmCNXKpIHUg",
        "outputId": "5ffb239c-b78c-4856-b392-380cbf917746"
      },
      "execution_count": null,
      "outputs": [
        {
          "output_type": "stream",
          "name": "stdout",
          "text": [
            "['kiwi', 'banana']\n",
            "[]\n"
          ]
        },
        {
          "output_type": "execute_result",
          "data": {
            "text/plain": [
              "'Answer:\\nSlicing with [-2:-4] starts at \"cherry\" and attempts to go up to but not including \"kiwi\".\\nSince slicing moves from left to right by default, and the starting index is to the right of the stopping index, the result is an empty list'"
            ],
            "application/vnd.google.colaboratory.intrinsic+json": {
              "type": "string"
            }
          },
          "metadata": {},
          "execution_count": 16
        }
      ]
    },
    {
      "cell_type": "markdown",
      "source": [
        "* A double colon syntax can also be used for slicing lists. It is of the format `[start : stop : steps]`. The `steps` is the value incremented in each step.\n"
      ],
      "metadata": {
        "id": "LESXCqKbJncK"
      }
    },
    {
      "cell_type": "code",
      "source": [
        "print(fruits[1:5:2])"
      ],
      "metadata": {
        "id": "vgtPfdJuJo8b",
        "colab": {
          "base_uri": "https://localhost:8080/"
        },
        "outputId": "8458eda8-669e-4730-84b7-ca6e64b0e4a4"
      },
      "execution_count": null,
      "outputs": [
        {
          "output_type": "stream",
          "name": "stdout",
          "text": [
            "['mango', 'kiwi']\n"
          ]
        }
      ]
    },
    {
      "cell_type": "markdown",
      "source": [
        "* This can be used to reverse lists. Using a negative value for `steps` will iterate the list in reverse fashion."
      ],
      "metadata": {
        "id": "XO0ndm0bJvuI"
      }
    },
    {
      "cell_type": "code",
      "source": [
        "print(fruits[4:1:-1])"
      ],
      "metadata": {
        "id": "1OpoiejZJwha",
        "colab": {
          "base_uri": "https://localhost:8080/"
        },
        "outputId": "5c2c2680-9654-477d-bbc6-52af33d9f050"
      },
      "execution_count": null,
      "outputs": [
        {
          "output_type": "stream",
          "name": "stdout",
          "text": [
            "['banana', 'kiwi', 'orange']\n"
          ]
        }
      ]
    },
    {
      "cell_type": "code",
      "source": [
        "# We can reverse the entire list using this\n",
        "print(fruits[::-1])\n",
        "print(fruits)"
      ],
      "metadata": {
        "id": "U57LYzmWJ--H",
        "colab": {
          "base_uri": "https://localhost:8080/"
        },
        "outputId": "0cde90fb-d3f6-4166-b376-d3874e0ac026"
      },
      "execution_count": null,
      "outputs": [
        {
          "output_type": "stream",
          "name": "stdout",
          "text": [
            "['melon', 'cherry', 'banana', 'kiwi', 'orange', 'mango', 'apple']\n",
            "['apple', 'mango', 'orange', 'kiwi', 'banana', 'cherry', 'melon']\n"
          ]
        }
      ]
    },
    {
      "cell_type": "markdown",
      "source": [
        "### **Adding Items**\n",
        "\n",
        "* Items can be added to lists using `append()` and `insert()`."
      ],
      "metadata": {
        "id": "v8XSZUuNKORn"
      }
    },
    {
      "cell_type": "code",
      "source": [
        "ls = [10, 20, 30]\n",
        "\n",
        "ls.append(40)       # Append adds an element to the end of the list.\n",
        "print(ls)"
      ],
      "metadata": {
        "id": "l3C2qUXMKPSe",
        "colab": {
          "base_uri": "https://localhost:8080/"
        },
        "outputId": "b2666f4b-a0ea-4b67-939f-b055a8999591"
      },
      "execution_count": null,
      "outputs": [
        {
          "output_type": "stream",
          "name": "stdout",
          "text": [
            "[10, 20, 30, 40]\n"
          ]
        }
      ]
    },
    {
      "cell_type": "code",
      "source": [
        "ls = [10, 20, 40]\n",
        "\n",
        "ls.insert(2, 30)      # .insert(index, value)\n",
        "print(ls)"
      ],
      "metadata": {
        "id": "KHe-NhiLKVrO",
        "colab": {
          "base_uri": "https://localhost:8080/"
        },
        "outputId": "5d050494-c1d7-4221-b501-e41dd10ee469"
      },
      "execution_count": null,
      "outputs": [
        {
          "output_type": "stream",
          "name": "stdout",
          "text": [
            "[10, 20, 30, 40]\n"
          ]
        }
      ]
    },
    {
      "cell_type": "markdown",
      "source": [
        "* We can even add another list entirely."
      ],
      "metadata": {
        "id": "jwn8Dz3rKavK"
      }
    },
    {
      "cell_type": "code",
      "source": [
        "ls1 = [10, 20, 30]\n",
        "ls2 = [40, 50, 60]\n",
        "\n",
        "# Simply + operator can be used\n",
        "ls3 = ls1 + ls2\n",
        "print(ls3)\n",
        "\n",
        "\n",
        "# .extend() method can be used to add elements from any iterable\n",
        "ls1 = [10, 20, 30]\n",
        "ls1.extend(ls2)     # A new list is not returned, ls2 is appended to ls1\n",
        "print(ls1)"
      ],
      "metadata": {
        "id": "SWjTG3F7Kb1U",
        "colab": {
          "base_uri": "https://localhost:8080/"
        },
        "outputId": "825d191b-919b-46a7-b886-9afb5d6e8f09"
      },
      "execution_count": null,
      "outputs": [
        {
          "output_type": "stream",
          "name": "stdout",
          "text": [
            "[10, 20, 30, 40, 50, 60]\n",
            "[10, 20, 30, 40, 50, 60]\n"
          ]
        }
      ]
    },
    {
      "cell_type": "markdown",
      "source": [
        "### **Removing Items**\n",
        "\n",
        "* The remove() method removes the specified item."
      ],
      "metadata": {
        "id": "2IfPW1E1KyHa"
      }
    },
    {
      "cell_type": "code",
      "source": [
        "ls = [\"India\", \"Pakistan\", \"USA\"]\n",
        "ls.remove(\"Pakistan\")\n",
        "print(ls)"
      ],
      "metadata": {
        "id": "-sV_bEnNLFgU",
        "colab": {
          "base_uri": "https://localhost:8080/"
        },
        "outputId": "abb475d0-eb0f-4c05-9ca8-505b6152cc3d"
      },
      "execution_count": null,
      "outputs": [
        {
          "output_type": "stream",
          "name": "stdout",
          "text": [
            "['India', 'USA']\n"
          ]
        }
      ]
    },
    {
      "cell_type": "markdown",
      "source": [
        "* The pop() method removes the item at given index. If not specified, the last item is removed"
      ],
      "metadata": {
        "id": "bWlOVWdTLPXj"
      }
    },
    {
      "cell_type": "code",
      "source": [
        "ls = [\"India\", \"Pakistan\", \"USA\"]\n",
        "x = ls.pop()\n",
        "print(ls)\n",
        "print(x)"
      ],
      "metadata": {
        "id": "D8LE9nExLQNM",
        "colab": {
          "base_uri": "https://localhost:8080/"
        },
        "outputId": "a8f27b77-0dfe-4adb-94bb-0905f035ac32"
      },
      "execution_count": null,
      "outputs": [
        {
          "output_type": "stream",
          "name": "stdout",
          "text": [
            "['India', 'Pakistan']\n",
            "USA\n"
          ]
        }
      ]
    },
    {
      "cell_type": "markdown",
      "source": [
        "* clear() method deletes all elements of the list"
      ],
      "metadata": {
        "id": "CQkBthoKLVLK"
      }
    },
    {
      "cell_type": "code",
      "source": [
        "ls = [\"Pakistan\", \"USA\", \"Russia\"]\n",
        "ls.clear()\n",
        "print(ls)"
      ],
      "metadata": {
        "id": "r_I1v92oLWDJ",
        "colab": {
          "base_uri": "https://localhost:8080/"
        },
        "outputId": "dd3a00e4-e721-443f-8a6b-48201d34b4d4"
      },
      "execution_count": null,
      "outputs": [
        {
          "output_type": "stream",
          "name": "stdout",
          "text": [
            "[]\n"
          ]
        }
      ]
    },
    {
      "cell_type": "code",
      "source": [
        "# Similarly del also can be used.\n",
        "ls = [\"Pakistan\", \"USA\", \"Russia\"]\n",
        "del ls[0]\n",
        "print(ls)\n",
        "\n",
        "del ls\n",
        "# print(ls)"
      ],
      "metadata": {
        "id": "AsTGEEVuLdWZ",
        "colab": {
          "base_uri": "https://localhost:8080/"
        },
        "outputId": "498d2328-b12b-401d-b75e-d1799fb86b8c"
      },
      "execution_count": null,
      "outputs": [
        {
          "output_type": "stream",
          "name": "stdout",
          "text": [
            "['USA', 'Russia']\n"
          ]
        }
      ]
    },
    {
      "cell_type": "markdown",
      "source": [
        "### **Sorting**\n",
        "\n",
        "* Sorting operation can be done by simply using the sort() method.\n",
        "* By default, sorting is done in ascending order. For descending order, we set the arguement `reverse = True`"
      ],
      "metadata": {
        "id": "-ndVhfNyL4Th"
      }
    },
    {
      "cell_type": "code",
      "source": [
        "ls = [3, 5, 1, 2, 6, 7, -4, 5]\n",
        "ls.sort()                  # Inplace sorting\n",
        "print(ls)"
      ],
      "metadata": {
        "id": "ajiTGAN8L6eE",
        "colab": {
          "base_uri": "https://localhost:8080/"
        },
        "outputId": "ba8e3eac-fbf7-4e30-b5ed-2fa7da94aaf5"
      },
      "execution_count": null,
      "outputs": [
        {
          "output_type": "stream",
          "name": "stdout",
          "text": [
            "[-4, 1, 2, 3, 5, 5, 6, 7]\n"
          ]
        }
      ]
    },
    {
      "cell_type": "code",
      "source": [
        "ls = [3, 5, 1, 2, 6, 7, -4, 5]\n",
        "ls.sort(reverse=True)       # Reverse sorting\n",
        "print(ls)"
      ],
      "metadata": {
        "id": "7psgIsNxL_Q1",
        "colab": {
          "base_uri": "https://localhost:8080/"
        },
        "outputId": "1fb25484-887b-4ee8-8270-041d376e027f"
      },
      "execution_count": null,
      "outputs": [
        {
          "output_type": "stream",
          "name": "stdout",
          "text": [
            "[7, 6, 5, 5, 3, 2, 1, -4]\n"
          ]
        }
      ]
    },
    {
      "cell_type": "code",
      "source": [
        "# For creating a new variable, we can use the sorted() function.\n",
        "ls = [3, 5, 1, 2, 6, 7, -4, 5]\n",
        "print(sorted(ls))\n",
        "print(ls)"
      ],
      "metadata": {
        "id": "OK40WDccMBpL",
        "colab": {
          "base_uri": "https://localhost:8080/"
        },
        "outputId": "bca0d144-238d-488f-b151-9d17918f5342"
      },
      "execution_count": null,
      "outputs": [
        {
          "output_type": "stream",
          "name": "stdout",
          "text": [
            "[-4, 1, 2, 3, 5, 5, 6, 7]\n",
            "[3, 5, 1, 2, 6, 7, -4, 5]\n"
          ]
        }
      ]
    },
    {
      "cell_type": "markdown",
      "source": [
        "> Python supports a lot of methods for lists. You can refer to these methods here.\n",
        "https://www.w3schools.com/python/python_lists_methods.asp"
      ],
      "metadata": {
        "id": "CTj3_QG3MLnc"
      }
    },
    {
      "cell_type": "markdown",
      "source": [
        "####List comprehensions:"
      ],
      "metadata": {
        "id": "ydNaWdSOa_vz"
      }
    },
    {
      "cell_type": "markdown",
      "source": [
        "When programming, frequently we want to transform one type of data into another. As a simple example, consider the following code that computes square numbers:"
      ],
      "metadata": {
        "id": "phoCqUk_bTk9"
      }
    },
    {
      "cell_type": "code",
      "source": [
        "nums = [0, 1, 2, 3, 4]\n",
        "squares = []\n",
        "for x in nums:\n",
        "    squares.append(x ** 2)\n",
        "print(squares)"
      ],
      "metadata": {
        "id": "LAl5bGLAbNB8",
        "colab": {
          "base_uri": "https://localhost:8080/"
        },
        "outputId": "8b685902-b5e5-409c-c3e9-e12680174a24"
      },
      "execution_count": null,
      "outputs": [
        {
          "output_type": "stream",
          "name": "stdout",
          "text": [
            "[0, 1, 4, 9, 16]\n"
          ]
        }
      ]
    },
    {
      "cell_type": "markdown",
      "source": [
        "You can make this code simpler using a list comprehension:"
      ],
      "metadata": {
        "id": "tUjJeBrVbXk7"
      }
    },
    {
      "cell_type": "code",
      "source": [
        "# newList = [expression(element) for element in Oldlist if condition]\n",
        "nums = [0, 1, 2, 3, 4]\n",
        "squares = [x ** 2 for x in nums]\n",
        "print(squares)"
      ],
      "metadata": {
        "id": "6e0oNosibYWi",
        "colab": {
          "base_uri": "https://localhost:8080/"
        },
        "outputId": "d9e51ad2-fc4b-4510-bb40-227cf4d30020"
      },
      "execution_count": null,
      "outputs": [
        {
          "output_type": "stream",
          "name": "stdout",
          "text": [
            "[0, 1, 4, 9, 16]\n"
          ]
        }
      ]
    },
    {
      "cell_type": "code",
      "source": [
        "# Make a list of even square numbers using nums\n",
        "even_square = [x**2 for x in nums if (x**2)%2==0]\n",
        "print(even_square)"
      ],
      "metadata": {
        "id": "DikC1mW_cQ0N",
        "colab": {
          "base_uri": "https://localhost:8080/"
        },
        "outputId": "4df8ecd5-4136-4bd5-d548-5843363d2b43"
      },
      "execution_count": null,
      "outputs": [
        {
          "output_type": "stream",
          "name": "stdout",
          "text": [
            "[0, 4, 16]\n"
          ]
        }
      ]
    },
    {
      "cell_type": "code",
      "source": [
        "# Make a list of even numbers between 1 to 10 using list comprehension\n",
        "even = [x for x in range(1,10\n",
        "                         ) if x%2==0]\n",
        "print(even)"
      ],
      "metadata": {
        "colab": {
          "base_uri": "https://localhost:8080/"
        },
        "id": "gb6vVfJHbuUB",
        "outputId": "26db4383-bb99-4dc0-ecc2-af1966fb6597"
      },
      "execution_count": null,
      "outputs": [
        {
          "output_type": "stream",
          "name": "stdout",
          "text": [
            "[2, 4, 6, 8]\n"
          ]
        }
      ]
    },
    {
      "cell_type": "markdown",
      "source": [
        "## **Sets**\n",
        "\n",
        "* Set is an unordered collection of unique items.\n",
        "* Duplicates are not allowed in sets. If a duplicate item is assigned, it is only inserted once.\n",
        "* A set can be created using curly braces `{ }`.\n",
        "* Sets items are not changeable, but the set itself can change. (i.e items can be added or removed)(Mutable)\n",
        "* Items in the set cannot be replaced or changed.\n",
        "\n",
        "* They are unindexed and so items cannot be accessed using index."
      ],
      "metadata": {
        "id": "ABDjlLEPRLMB"
      }
    },
    {
      "cell_type": "code",
      "source": [
        "mySet = {10, 15, \"v\", 2, 13, \"Hello\", 10, 2, \"v\"}\n",
        "print(mySet)"
      ],
      "metadata": {
        "id": "dfKiwkN8RO99",
        "colab": {
          "base_uri": "https://localhost:8080/"
        },
        "outputId": "704f6612-90dc-4e09-ee34-eed3fd5f7146"
      },
      "execution_count": null,
      "outputs": [
        {
          "output_type": "stream",
          "name": "stdout",
          "text": [
            "{2, 'Hello', 10, 15, 13, 'v'}\n"
          ]
        }
      ]
    },
    {
      "cell_type": "markdown",
      "source": [
        "### **Accessing Set Items**\n",
        "* You cannot access items in a set by referring to an index or key.\n",
        "But you can ask if a specified value is present in a set, by using the **in** keyword."
      ],
      "metadata": {
        "id": "Sn0NqP7oRUYj"
      }
    },
    {
      "cell_type": "code",
      "source": [
        "myLang = {\"C++\", \"Python\", \"Java\", \"Kotlin\"}\n",
        "if \"Javascript\" in myLang:\n",
        "    print(\"I know Javascript.\")\n",
        "else:\n",
        "    print(\"I do not know Javascript.\")"
      ],
      "metadata": {
        "id": "o_H9rqH7RaGm",
        "colab": {
          "base_uri": "https://localhost:8080/"
        },
        "outputId": "baf205cf-45b1-4ccc-d479-e6bb14a24e20"
      },
      "execution_count": null,
      "outputs": [
        {
          "output_type": "stream",
          "name": "stdout",
          "text": [
            "I do not know Javascript.\n"
          ]
        }
      ]
    },
    {
      "cell_type": "markdown",
      "source": [
        "### **Adding Items**\n",
        "\n",
        "* Items can be added to a set using `add()` method."
      ],
      "metadata": {
        "id": "z_jsl8NdRfIQ"
      }
    },
    {
      "cell_type": "code",
      "source": [
        "mySet = {10, 20, 30}\n",
        "mySet.add(40)\n",
        "print(mySet)\n",
        "\n",
        "mySet.add(30)\n",
        "print(mySet)"
      ],
      "metadata": {
        "id": "tOV7Qdu6Rf3D",
        "colab": {
          "base_uri": "https://localhost:8080/"
        },
        "outputId": "a1f4adb8-9c93-441c-a037-b9363d5ce335"
      },
      "execution_count": null,
      "outputs": [
        {
          "output_type": "stream",
          "name": "stdout",
          "text": [
            "{40, 10, 20, 30}\n",
            "{40, 10, 20, 30}\n"
          ]
        }
      ]
    },
    {
      "cell_type": "markdown",
      "source": [
        "* To add multiple items at once, we can use `update()` method. It takes any iterable as an arguement."
      ],
      "metadata": {
        "id": "liDEEzdnS1hv"
      }
    },
    {
      "cell_type": "code",
      "source": [
        "mySet = {\"A\", \"B\", \"C\"}\n",
        "ls = [\"C\", \"D\", \"E\"]\n",
        "\n",
        "mySet.update(ls)\n",
        "print(mySet)"
      ],
      "metadata": {
        "id": "lDKmL_kjS2T7",
        "colab": {
          "base_uri": "https://localhost:8080/"
        },
        "outputId": "f939c01f-5f59-46b0-bf8e-b2938a53fb22"
      },
      "execution_count": null,
      "outputs": [
        {
          "output_type": "stream",
          "name": "stdout",
          "text": [
            "{'B', 'D', 'E', 'C', 'A'}\n"
          ]
        }
      ]
    },
    {
      "cell_type": "markdown",
      "source": [
        "### **Removing Items**\n",
        "\n",
        "* To remove an item from set, we can use `discard()` or `remove()` method.\n",
        "* Both function similarly with the only difference being that if item does not exist in the set, `remove()` will generate an error whereas `discard()` will NOT generate an error."
      ],
      "metadata": {
        "id": "p6snqvqVTwHf"
      }
    },
    {
      "cell_type": "code",
      "source": [
        "mySet = {10, 20, 'A', 'B'}\n",
        "mySet.remove(10)\n",
        "mySet.remove(30)         # Element does not exist.\n",
        "print(mySet)"
      ],
      "metadata": {
        "id": "SmCyYN3HTyWC",
        "colab": {
          "base_uri": "https://localhost:8080/",
          "height": 193
        },
        "outputId": "a9415946-8836-4084-e076-f22dbf5f332c"
      },
      "execution_count": null,
      "outputs": [
        {
          "output_type": "error",
          "ename": "KeyError",
          "evalue": "30",
          "traceback": [
            "\u001b[0;31m---------------------------------------------------------------------------\u001b[0m",
            "\u001b[0;31mKeyError\u001b[0m                                  Traceback (most recent call last)",
            "\u001b[0;32m<ipython-input-6-e50deec3ffbb>\u001b[0m in \u001b[0;36m<cell line: 3>\u001b[0;34m()\u001b[0m\n\u001b[1;32m      1\u001b[0m \u001b[0mmySet\u001b[0m \u001b[0;34m=\u001b[0m \u001b[0;34m{\u001b[0m\u001b[0;36m10\u001b[0m\u001b[0;34m,\u001b[0m \u001b[0;36m20\u001b[0m\u001b[0;34m,\u001b[0m \u001b[0;34m'A'\u001b[0m\u001b[0;34m,\u001b[0m \u001b[0;34m'B'\u001b[0m\u001b[0;34m}\u001b[0m\u001b[0;34m\u001b[0m\u001b[0;34m\u001b[0m\u001b[0m\n\u001b[1;32m      2\u001b[0m \u001b[0mmySet\u001b[0m\u001b[0;34m.\u001b[0m\u001b[0mremove\u001b[0m\u001b[0;34m(\u001b[0m\u001b[0;36m10\u001b[0m\u001b[0;34m)\u001b[0m\u001b[0;34m\u001b[0m\u001b[0;34m\u001b[0m\u001b[0m\n\u001b[0;32m----> 3\u001b[0;31m \u001b[0mmySet\u001b[0m\u001b[0;34m.\u001b[0m\u001b[0mremove\u001b[0m\u001b[0;34m(\u001b[0m\u001b[0;36m30\u001b[0m\u001b[0;34m)\u001b[0m         \u001b[0;31m# Element does not exist.\u001b[0m\u001b[0;34m\u001b[0m\u001b[0;34m\u001b[0m\u001b[0m\n\u001b[0m\u001b[1;32m      4\u001b[0m \u001b[0mprint\u001b[0m\u001b[0;34m(\u001b[0m\u001b[0mmySet\u001b[0m\u001b[0;34m)\u001b[0m\u001b[0;34m\u001b[0m\u001b[0;34m\u001b[0m\u001b[0m\n",
            "\u001b[0;31mKeyError\u001b[0m: 30"
          ]
        }
      ]
    },
    {
      "cell_type": "code",
      "source": [
        "mySet = {10, 20, 'A', 'B'}\n",
        "mySet.discard(10)\n",
        "mySet.discard(30)        # Element does not exist.\n",
        "print(mySet)"
      ],
      "metadata": {
        "id": "HMS1II6UT12Z",
        "colab": {
          "base_uri": "https://localhost:8080/"
        },
        "outputId": "cc68f1d2-4e53-4f7b-b7ba-67eb3e3483b9"
      },
      "execution_count": null,
      "outputs": [
        {
          "output_type": "stream",
          "name": "stdout",
          "text": [
            "{'A', 'B', 20}\n"
          ]
        }
      ]
    },
    {
      "cell_type": "markdown",
      "source": [
        "### **Set Operations**\n",
        "\n",
        "* The `union()` method is used to perform union of two sets.\n",
        "* The `intersection()` method is used to perform intersection of two sets."
      ],
      "metadata": {
        "id": "oEEhVGrNUL7H"
      }
    },
    {
      "cell_type": "code",
      "source": [
        "A = {10, 20, 30}\n",
        "B = {20, 40, 50, 60}\n",
        "\n",
        "AuB = A.union(B)          # A new set is returned.\n",
        "print(AuB)\n",
        "AiB = A.intersection(B)         # A new set is returned.\n",
        "print(AiB)"
      ],
      "metadata": {
        "colab": {
          "base_uri": "https://localhost:8080/"
        },
        "id": "asVJzE_dUUtq",
        "outputId": "fe255043-f7e3-490d-dade-d04325c02e50"
      },
      "execution_count": null,
      "outputs": [
        {
          "output_type": "stream",
          "name": "stdout",
          "text": [
            "{50, 20, 40, 10, 60, 30}\n",
            "{20}\n"
          ]
        }
      ]
    },
    {
      "cell_type": "markdown",
      "source": [
        "* Many other operations like difference and symmetric difference can also be performed using set methods. Check reference : https://www.w3schools.com/python/python_sets_methods.asp"
      ],
      "metadata": {
        "id": "Wll3GUnGUedo"
      }
    },
    {
      "cell_type": "markdown",
      "source": [
        "When programming, frequently we want to transform one type of data into another. As a simple example, consider the following code that computes square numbers:"
      ],
      "metadata": {
        "id": "kqAva3f_eopa"
      }
    },
    {
      "cell_type": "markdown",
      "source": [
        "## **Dictionaries**\n",
        "\n",
        "* Dictionaries are used to store `key : value` pairs in python. It is an implementation of hash tables.\n",
        "* Item values can be accessed using the `key` for the required item.\n",
        "* Dictionaries are mutable, i.e we can add or remove items after the dictionary has been created.\n",
        "* Dictionaries require a unique `key` for every item. No two items can have the same `key`.\n"
      ],
      "metadata": {
        "id": "H_FILFVqyku5"
      }
    },
    {
      "cell_type": "code",
      "source": [
        "myDict = {\n",
        "    \"Student ID\" : 202103017,         # keys and values can be of any data type\n",
        "    \"Name\" : \"Dhruv\",\n",
        "    \"College\" : \"DAIICT\",\n",
        "    \"Graduation Year\" : 2025,\n",
        "    \"Years of Study\" : [2021, 2022, 2023, 2024],\n",
        "}\n",
        "print(myDict)\n",
        "print(myDict[\"College\"])"
      ],
      "metadata": {
        "id": "QWSA327Fy5Di",
        "colab": {
          "base_uri": "https://localhost:8080/"
        },
        "outputId": "1fbc521a-24b0-4930-d00b-8416b4d6602e"
      },
      "execution_count": null,
      "outputs": [
        {
          "output_type": "stream",
          "name": "stdout",
          "text": [
            "{'Student ID': 202103017, 'Name': 'Dhruv', 'College': 'DAIICT', 'Graduation Year': 2025, 'Years of Study': [2021, 2022, 2023, 2024]}\n",
            "DAIICT\n"
          ]
        }
      ]
    },
    {
      "cell_type": "markdown",
      "source": [
        "### **Accessing Dictionary Items**\n",
        "\n",
        "* As shown above, dictionary `values` can be accessed by using their corresponding `keys` as index.\n",
        "* This can also be done using the `get()` method. This will prevent an error incase key does not exist."
      ],
      "metadata": {
        "id": "hRlbGLpQzS7M"
      }
    },
    {
      "cell_type": "code",
      "source": [
        "gradeDict = {'A' : 5, 'B': 4, 'C' : 3, 'D' : 2, 'E' : 1, 'F' : 0}\n",
        "\n",
        "print(gradeDict['A'])\n",
        "print(gradeDict.get('B'))\n",
        "print(gradeDict.get('X'))"
      ],
      "metadata": {
        "id": "_fnEr1MPzT6G",
        "colab": {
          "base_uri": "https://localhost:8080/"
        },
        "outputId": "315e2d19-8b7b-475c-8fa2-814eeb764a01"
      },
      "execution_count": null,
      "outputs": [
        {
          "output_type": "stream",
          "name": "stdout",
          "text": [
            "5\n",
            "4\n",
            "None\n"
          ]
        }
      ]
    },
    {
      "cell_type": "markdown",
      "source": [
        "### **Adding and Updating Items**\n",
        "\n",
        "* Existing items can be updated easily by accessing them using their corresponding `key`."
      ],
      "metadata": {
        "id": "3G4-0_qXz9ay"
      }
    },
    {
      "cell_type": "code",
      "source": [
        "phone = {\n",
        "    'Company' : 'Samsung',\n",
        "    'Model' : 'S21',\n",
        "    'Android Version' : 11\n",
        "}\n",
        "\n",
        "phone['Android Version'] = 12\n",
        "print(phone)"
      ],
      "metadata": {
        "id": "cIfIKC1Fz-J9",
        "colab": {
          "base_uri": "https://localhost:8080/"
        },
        "outputId": "fcea4811-0c57-4ec2-dd3b-6cd279dda05d"
      },
      "execution_count": null,
      "outputs": [
        {
          "output_type": "stream",
          "name": "stdout",
          "text": [
            "{'Company': 'Samsung', 'Model': 'S21', 'Android Version': 12}\n"
          ]
        }
      ]
    },
    {
      "cell_type": "markdown",
      "source": [
        "* If we assign a `value` to a `key` which does not exist, a new `key : value` pair will be added to the dictionary."
      ],
      "metadata": {
        "id": "Ti_idnhE0Ijv"
      }
    },
    {
      "cell_type": "code",
      "source": [
        "phone = {\n",
        "    'Company' : 'Samsung',\n",
        "    'Model' : 'S21',\n",
        "    'Android Version' : 11\n",
        "}\n",
        "phone['OneUI'] = 4.1\n",
        "print(phone)"
      ],
      "metadata": {
        "id": "Y0jwj4k80K4B",
        "colab": {
          "base_uri": "https://localhost:8080/"
        },
        "outputId": "c8942428-1983-4796-e295-f7dc871d77b4"
      },
      "execution_count": null,
      "outputs": [
        {
          "output_type": "stream",
          "name": "stdout",
          "text": [
            "{'Company': 'Samsung', 'Model': 'S21', 'Android Version': 11, 'OneUI': 4.1}\n"
          ]
        }
      ]
    },
    {
      "cell_type": "markdown",
      "source": [
        "* To add new or update multiple items at once, we can use the `update()` method of dictionaries.\n",
        "* `update()` method takes a dictionary as input which will be merged with the calling dictionary."
      ],
      "metadata": {
        "id": "UdbD4kHz0OIJ"
      }
    },
    {
      "cell_type": "code",
      "source": [
        "phone = {\n",
        "    'Company' : 'Samsung',\n",
        "    'Model' : 'S21',\n",
        "    'Android Version' : 11\n",
        "}\n",
        "phone.update({'Model':'S22', 'Android Version':12, 'Color': 'Black'})\n",
        "print(phone)"
      ],
      "metadata": {
        "id": "3Tvdr8cd0hjO",
        "colab": {
          "base_uri": "https://localhost:8080/"
        },
        "outputId": "134d1b32-1e97-46e3-806d-86304326c4b2"
      },
      "execution_count": null,
      "outputs": [
        {
          "output_type": "stream",
          "name": "stdout",
          "text": [
            "{'Company': 'Samsung', 'Model': 'S22', 'Android Version': 12, 'Color': 'Black'}\n"
          ]
        }
      ]
    },
    {
      "cell_type": "markdown",
      "source": [
        "### **Remove Items**\n",
        "\n",
        "* To remove an item, we can use the `pop()` method. It takes item `key` as input parameter."
      ],
      "metadata": {
        "id": "T-Vo2GF-0r6_"
      }
    },
    {
      "cell_type": "code",
      "source": [
        "phone = {\n",
        "    'Company' : 'Samsung',\n",
        "    'Model' : 'S21',\n",
        "    'Android Version' : 12,\n",
        "    'Color' : 'Black'\n",
        "}\n",
        "phone.pop('Model')\n",
        "print(phone)"
      ],
      "metadata": {
        "id": "-fb6vokN0skm",
        "colab": {
          "base_uri": "https://localhost:8080/"
        },
        "outputId": "19682a23-c649-4094-de58-cd55793dd249"
      },
      "execution_count": null,
      "outputs": [
        {
          "output_type": "stream",
          "name": "stdout",
          "text": [
            "{'Company': 'Samsung', 'Android Version': 12, 'Color': 'Black'}\n"
          ]
        }
      ]
    },
    {
      "cell_type": "markdown",
      "source": [
        "* The `popitem()` method removes the last inserted item from the dictionary.\n",
        "\n",
        "* Note that dictionaries are unordered in versions before 3.7. In older versions, this method removes a random item."
      ],
      "metadata": {
        "id": "y-Z907Qw0zMG"
      }
    },
    {
      "cell_type": "code",
      "source": [
        "phone = {\n",
        "    'Company' : 'Samsung',\n",
        "    'Model' : 'S21',\n",
        "    'Android Version' : 12,\n",
        "}\n",
        "phone.popitem()\n",
        "print(phone)"
      ],
      "metadata": {
        "id": "cJ4cmoSf0218",
        "colab": {
          "base_uri": "https://localhost:8080/"
        },
        "outputId": "9e2f15bd-0428-42e8-e90e-e825acd47332"
      },
      "execution_count": null,
      "outputs": [
        {
          "output_type": "stream",
          "name": "stdout",
          "text": [
            "{'Company': 'Samsung', 'Model': 'S21'}\n"
          ]
        }
      ]
    },
    {
      "cell_type": "markdown",
      "source": [
        "### **Items, Keys & Values**\n",
        "\n",
        "While using python dictionaries you will work with these three terms.\n",
        "1. ***items*** : Items refer to a `key:value` pair. It is stored in the form of a tuple.\n",
        "2. ***keys*** : Keys refer to the user made indices which are used to access items.\n",
        "3. ***values*** : Values refere to the *data* which can be accessed using its corresponding key."
      ],
      "metadata": {
        "id": "aWlx0MJb0_XF"
      }
    },
    {
      "cell_type": "markdown",
      "source": [
        "We can view all items, keys and values using the methods `items()`, `keys()`\n",
        "\n",
        "and `values()` respectively."
      ],
      "metadata": {
        "id": "3-8VrSO71CgL"
      }
    },
    {
      "cell_type": "code",
      "source": [
        "phone = {\n",
        "    'Company' : 'Samsung',\n",
        "    'Model' : 'S21',\n",
        "    'Android Version' : 12,\n",
        "}\n",
        "\n",
        "print(phone.items(), type(phone.items()))\n",
        "print(phone.keys(), type(phone.keys()))\n",
        "print(phone.values(), type(phone.values()))"
      ],
      "metadata": {
        "id": "m14nlTkd1E_z",
        "colab": {
          "base_uri": "https://localhost:8080/"
        },
        "outputId": "f2960025-9ec8-4998-cc82-242af6896d3e"
      },
      "execution_count": null,
      "outputs": [
        {
          "output_type": "stream",
          "name": "stdout",
          "text": [
            "dict_items([('Company', 'Samsung'), ('Model', 'S21'), ('Android Version', 12)]) <class 'dict_items'>\n",
            "dict_keys(['Company', 'Model', 'Android Version']) <class 'dict_keys'>\n",
            "dict_values(['Samsung', 'S21', 12]) <class 'dict_values'>\n"
          ]
        }
      ]
    },
    {
      "cell_type": "markdown",
      "source": [
        "> Python dictionaries also support many other methods. Check reference: https://www.w3schools.com/python/python_dictionaries_methods.asp"
      ],
      "metadata": {
        "id": "aJdv51gF2DIu"
      }
    },
    {
      "cell_type": "markdown",
      "metadata": {
        "id": "mkQdG8OH-S0V"
      },
      "source": [
        "## **Tuples**\n",
        "\n",
        "* Tuples are used to store multiple items in a single variable.\n",
        "* Tuples are created using `( )` and are immutable (unchangeable)\n",
        "* Similar to lists, tuples are 0-indexed."
      ]
    },
    {
      "cell_type": "code",
      "execution_count": null,
      "metadata": {
        "colab": {
          "base_uri": "https://localhost:8080/"
        },
        "id": "kdLjutQfA_LB",
        "outputId": "8876532a-bbd6-49fd-bf7f-c03ae53ad271"
      },
      "outputs": [
        {
          "output_type": "stream",
          "name": "stdout",
          "text": [
            "('Zero', 'One', 'Two', 'Three')\n"
          ]
        }
      ],
      "source": [
        "myTuple = (\"Zero\", \"One\", \"Two\", \"Three\")\n",
        "print(myTuple)\n"
      ]
    },
    {
      "cell_type": "code",
      "source": [
        "myTuple[0] = \"Five\""
      ],
      "metadata": {
        "id": "siJhmgldXKPc",
        "outputId": "aab6f233-7c3f-4674-ca28-b6c1a07c77ab",
        "colab": {
          "base_uri": "https://localhost:8080/",
          "height": 141
        }
      },
      "execution_count": null,
      "outputs": [
        {
          "output_type": "error",
          "ename": "TypeError",
          "evalue": "'tuple' object does not support item assignment",
          "traceback": [
            "\u001b[0;31m---------------------------------------------------------------------------\u001b[0m",
            "\u001b[0;31mTypeError\u001b[0m                                 Traceback (most recent call last)",
            "\u001b[0;32m<ipython-input-20-44c018fbf4e3>\u001b[0m in \u001b[0;36m<cell line: 1>\u001b[0;34m()\u001b[0m\n\u001b[0;32m----> 1\u001b[0;31m \u001b[0mmyTuple\u001b[0m\u001b[0;34m[\u001b[0m\u001b[0;36m0\u001b[0m\u001b[0;34m]\u001b[0m \u001b[0;34m=\u001b[0m \u001b[0;34m\"Five\"\u001b[0m\u001b[0;34m\u001b[0m\u001b[0;34m\u001b[0m\u001b[0m\n\u001b[0m",
            "\u001b[0;31mTypeError\u001b[0m: 'tuple' object does not support item assignment"
          ]
        }
      ]
    },
    {
      "cell_type": "code",
      "execution_count": null,
      "metadata": {
        "colab": {
          "base_uri": "https://localhost:8080/"
        },
        "id": "m7d7heirB4Rj",
        "outputId": "0b0b6c1c-786b-4abc-e2ca-b3f11336f82b"
      },
      "outputs": [
        {
          "name": "stdout",
          "output_type": "stream",
          "text": [
            "<class 'int'> <class 'str'> <class 'float'>\n"
          ]
        }
      ],
      "source": [
        "# A tuple can also have different data type values\n",
        "diffTup = (0, \"One\", 2.0)\n",
        "print(type(diffTup[0]), type(diffTup[1]), type(diffTup[2]))"
      ]
    },
    {
      "cell_type": "markdown",
      "metadata": {
        "id": "Mu1pbIY5CgG4"
      },
      "source": [
        "* As tuples are unchangeable, we cannot add or remove elements from a tuple.\n",
        "But there is a workaround for this. We can convert the tuple into a list, add/remove your item, and then convert it back into a tuple."
      ]
    },
    {
      "cell_type": "code",
      "source": [
        "thistuple=(\"apple\",\"banana\",\"cherry\")\n",
        "y=list(thistuple)\n",
        "y.append(\"orange\")\n",
        "thistuple=tuple(y)\n",
        "thistuple"
      ],
      "metadata": {
        "id": "8xLYoTkxVOko",
        "colab": {
          "base_uri": "https://localhost:8080/"
        },
        "outputId": "f3673f2b-2c6e-415c-dbe6-3e0cd2e47140"
      },
      "execution_count": null,
      "outputs": [
        {
          "output_type": "execute_result",
          "data": {
            "text/plain": [
              "('apple', 'banana', 'cherry', 'orange')"
            ]
          },
          "metadata": {},
          "execution_count": 22
        }
      ]
    },
    {
      "cell_type": "markdown",
      "metadata": {
        "id": "Aiy0jSt7CeDY"
      },
      "source": [
        "### **Unpacking tuples**\n",
        "\n",
        "* As we discussed tuples are used to store multiple items in a single variable. Now, unpacking a tuple means creating a separate variable for every item in a tuple."
      ]
    },
    {
      "cell_type": "code",
      "execution_count": null,
      "metadata": {
        "colab": {
          "base_uri": "https://localhost:8080/"
        },
        "id": "TtSocFXaC9OP",
        "outputId": "1662c915-85a1-4047-911d-4cc22f89b6f4"
      },
      "outputs": [
        {
          "output_type": "stream",
          "name": "stdout",
          "text": [
            "Zero\n",
            "One\n",
            "Two\n"
          ]
        }
      ],
      "source": [
        "myTuple = (\"Zero\", \"One\", \"Two\")\n",
        "z, o, t = myTuple\n",
        "print(z, o, t, sep='\\n')"
      ]
    },
    {
      "cell_type": "markdown",
      "metadata": {
        "id": "GBDl-eJYEBr1"
      },
      "source": [
        "* If number of variables created are not equal to the number of items in the tuple, we will face an error. To resolve this error, use `*` before a variable name to assign all remaining items to that variable as a list."
      ]
    },
    {
      "cell_type": "code",
      "execution_count": null,
      "metadata": {
        "colab": {
          "base_uri": "https://localhost:8080/"
        },
        "id": "p7kv5X95D0KW",
        "outputId": "2e4b2eb4-f5cb-4458-f74d-3e8f97adfa81"
      },
      "outputs": [
        {
          "output_type": "stream",
          "name": "stdout",
          "text": [
            "['Zero', 'One'] Two\n"
          ]
        }
      ],
      "source": [
        "myTuple = (\"Zero\", \"One\", \"Two\")\n",
        "*z, o = myTuple      # Use *\n",
        "print(z,o)"
      ]
    },
    {
      "cell_type": "markdown",
      "source": [
        "A tuple is in many ways similar to a list; one of the most important differences is that tuples can be used as keys in dictionaries and as elements of sets, while lists cannot. Here is a trivial example:"
      ],
      "metadata": {
        "id": "_JIFFLMrXrH8"
      }
    },
    {
      "cell_type": "code",
      "source": [
        "d = {(x, x + 1): x for x in range(10)}  # Create a dictionary with tuple keys\n",
        "t = (5, 6)       # Create a tuple\n",
        "print(d)\n",
        "print(type(t))\n"
      ],
      "metadata": {
        "colab": {
          "base_uri": "https://localhost:8080/"
        },
        "id": "U2DE8SD9X2um",
        "outputId": "84b56a5e-6349-4f3f-faaa-ea7d7cef37f7"
      },
      "execution_count": null,
      "outputs": [
        {
          "output_type": "stream",
          "name": "stdout",
          "text": [
            "{(0, 1): 0, (1, 2): 1, (2, 3): 2, (3, 4): 3, (4, 5): 4, (5, 6): 5, (6, 7): 6, (7, 8): 7, (8, 9): 8, (9, 10): 9}\n",
            "<class 'tuple'>\n"
          ]
        }
      ]
    },
    {
      "cell_type": "code",
      "source": [
        "print(d[t])\n",
        "print(d[(1, 2)])"
      ],
      "metadata": {
        "colab": {
          "base_uri": "https://localhost:8080/"
        },
        "id": "Gok6ou7yYITR",
        "outputId": "1dc8c049-2772-4023-95b1-ef94f8c8c7db"
      },
      "execution_count": null,
      "outputs": [
        {
          "output_type": "stream",
          "name": "stdout",
          "text": [
            "5\n",
            "1\n"
          ]
        }
      ]
    },
    {
      "cell_type": "markdown",
      "metadata": {
        "id": "qtTrYTOfFSbZ"
      },
      "source": [
        "# **Functions in Python**\n",
        "\n",
        "* Functions in python can be declared using the `def` keyword.\n",
        "* `def` is followed by function name and arguements within `( )`."
      ]
    },
    {
      "cell_type": "code",
      "execution_count": null,
      "metadata": {
        "id": "g2OlAuFPFmBI",
        "colab": {
          "base_uri": "https://localhost:8080/"
        },
        "outputId": "a752234a-5b0b-4fcd-9db4-af1faa9a398a"
      },
      "outputs": [
        {
          "output_type": "stream",
          "name": "stdout",
          "text": [
            "Welcome Dhruv\n"
          ]
        }
      ],
      "source": [
        "def myFunction(username):\n",
        "    print(\"Welcome\", username)\n",
        "\n",
        "myFunction(\"Dhruv\")"
      ]
    },
    {
      "cell_type": "code",
      "execution_count": null,
      "metadata": {
        "id": "7xo6HvxuGyfC",
        "colab": {
          "base_uri": "https://localhost:8080/"
        },
        "outputId": "58c13b62-fdd4-4bb0-a1f5-0be9342e6a0e"
      },
      "outputs": [
        {
          "output_type": "stream",
          "name": "stdout",
          "text": [
            "Username: Dhruv\n",
            "Email ID: dhruv@mail.com\n"
          ]
        }
      ],
      "source": [
        "# Multiple Arguements\n",
        "def myFunc(username, email):\n",
        "    print(\"Username:\", username)\n",
        "    print(\"Email ID:\", email)\n",
        "\n",
        "myFunc(\"Dhruv\", \"dhruv@mail.com\")"
      ]
    },
    {
      "cell_type": "markdown",
      "metadata": {
        "id": "Mr-AFW4lGLzl"
      },
      "source": [
        "* For multiple parameters, arguements can also be sent in the form of `key = value` synatax."
      ]
    },
    {
      "cell_type": "code",
      "execution_count": null,
      "metadata": {
        "id": "UCbiWPYuHKwM",
        "colab": {
          "base_uri": "https://localhost:8080/"
        },
        "outputId": "074f9df8-c174-4986-d795-251a5517ff98"
      },
      "outputs": [
        {
          "output_type": "stream",
          "name": "stdout",
          "text": [
            "Username: Dhruv\n",
            "Email ID: dhruv@mail.com\n"
          ]
        }
      ],
      "source": [
        "def myFunc(username, email):\n",
        "    print(\"Username:\", username)\n",
        "    print(\"Email ID:\", email)\n",
        "\n",
        "myFunc(email=\"dhruv@mail.com\", username=\"Dhruv\")"
      ]
    },
    {
      "cell_type": "markdown",
      "source": [
        "# Classes in Python"
      ],
      "metadata": {
        "id": "CFJIy_otSScQ"
      }
    },
    {
      "cell_type": "code",
      "source": [
        "# The Syntax for defining the classes is pretty straightforward.\n",
        "\n",
        "class Greeter:\n",
        "    # Constructor\n",
        "    def __init__(self, name):\n",
        "        self.name = name  # Create an instance variable\n",
        "\n",
        "    # Instance method\n",
        "    def greet(self, loud=False):\n",
        "        if loud:\n",
        "          print('HELLO, {}'.format(self.name.upper()))\n",
        "        else:\n",
        "          print('Hello, {}!'.format(self.name))\n",
        "\n",
        "g = Greeter('Fred')  # Construct an instance of the Greeter class\n",
        "g.greet()            # Call an instance method; prints \"Hello, Fred\"\n",
        "g.greet(loud=True)   # Call an instance method; prints \"HELLO, FRED!\""
      ],
      "metadata": {
        "id": "E1ff14yPSZvD",
        "colab": {
          "base_uri": "https://localhost:8080/"
        },
        "outputId": "c650f464-69db-41c9-9bb0-273f8851a032"
      },
      "execution_count": null,
      "outputs": [
        {
          "output_type": "stream",
          "name": "stdout",
          "text": [
            "Hello, Fred!\n",
            "HELLO, FRED\n"
          ]
        }
      ]
    },
    {
      "cell_type": "markdown",
      "source": [
        "## Coding Problem - 3"
      ],
      "metadata": {
        "id": "f_Sc6GbwT9WY"
      }
    },
    {
      "cell_type": "code",
      "source": [
        "# Create a function that checks if a given string is a palindrome.\n",
        "# Your Code here.\n",
        "def is_palindrome(s):\n",
        "    s = ''.join(filter(str.isalnum, s.lower()))\n",
        "    return s == s[::-1]\n",
        "\n",
        "a = input(\"Enter your string: \")\n",
        "print(is_palindrome(a))"
      ],
      "metadata": {
        "id": "12ZKlprzT7as",
        "colab": {
          "base_uri": "https://localhost:8080/"
        },
        "outputId": "619195bb-71c8-4c04-8159-e42f84fbfa81"
      },
      "execution_count": 6,
      "outputs": [
        {
          "output_type": "stream",
          "name": "stdout",
          "text": [
            "Enter your string: naman\n",
            "True\n"
          ]
        }
      ]
    },
    {
      "cell_type": "code",
      "source": [
        "# Create a program that removes duplicate elements from a list.\n",
        "# Your Code here.\n",
        "def remove_duplicates(lst):\n",
        "    return list(set(lst))\n",
        "\n",
        "# Example usage:\n",
        "my_list = [1, 2, 2, 3, 3, 4, 5, 5, 6]\n",
        "unique_list = remove_duplicates(my_list)\n",
        "print(unique_list)"
      ],
      "metadata": {
        "id": "nazCXqINUGxi",
        "colab": {
          "base_uri": "https://localhost:8080/"
        },
        "outputId": "3030c614-9a5b-44e8-f2fa-cb37fcabe17e"
      },
      "execution_count": 8,
      "outputs": [
        {
          "output_type": "stream",
          "name": "stdout",
          "text": [
            "[1, 2, 3, 4, 5, 6]\n"
          ]
        }
      ]
    },
    {
      "cell_type": "code",
      "source": [
        "# Write a class representing a simple bank account with methods to deposit, withdraw, and check balance.\n",
        "# Your Code here.\n",
        "class BankAccount:\n",
        "    def __init__(self, balance=0):\n",
        "        self.balance = balance\n",
        "\n",
        "    def deposit(self, amount):\n",
        "        if amount > 0:\n",
        "            self.balance += amount\n",
        "            print(f\"Deposited Rs. {amount}\")\n",
        "        else:\n",
        "            print(\"Deposit amount must be positive.\")\n",
        "\n",
        "    def withdraw(self, amount):\n",
        "        if amount > 0:\n",
        "            if amount <= self.balance:\n",
        "                self.balance -= amount\n",
        "                print(f\"Withdrew Rs. {amount}\")\n",
        "            else:\n",
        "                print(\"Insufficient funds.\")\n",
        "        else:\n",
        "            print(\"Withdrawal amount must be positive.\")\n",
        "\n",
        "    def check_balance(self):\n",
        "        print(f\"Current balance: Rs. {self.balance}\")\n",
        "\n",
        "account = BankAccount(100)\n",
        "account.deposit(50)\n",
        "account.check_balance()\n",
        "account.withdraw(30)\n",
        "account.check_balance()\n"
      ],
      "metadata": {
        "id": "WynpNM5bUS_Z",
        "colab": {
          "base_uri": "https://localhost:8080/"
        },
        "outputId": "d44d914c-458c-4e66-b787-dfda65343f86"
      },
      "execution_count": 11,
      "outputs": [
        {
          "output_type": "stream",
          "name": "stdout",
          "text": [
            "Deposited Rs. 50\n",
            "Current balance: Rs. 150\n",
            "Withdrew Rs. 30\n",
            "Current balance: Rs. 120\n"
          ]
        }
      ]
    },
    {
      "cell_type": "markdown",
      "source": [
        "# **Python pip**\n",
        "\n",
        "\n",
        "* Python supports a lot of third-party packages which can be easily installed using pip.\n",
        "* **pip** is a package installer for python.\n",
        "* Note that pip is not a python function. It is a command line tool which is used to manage packages in python."
      ],
      "metadata": {
        "id": "h0jlV69h2bu0"
      }
    },
    {
      "cell_type": "markdown",
      "source": [
        "## **Installing a package**\n",
        "\n",
        "* If you have python installed on your local machine, you can try using pip on your command prompt."
      ],
      "metadata": {
        "id": "BMz2JXtW2mxl"
      }
    },
    {
      "cell_type": "code",
      "source": [
        "!pip install numpy"
      ],
      "metadata": {
        "colab": {
          "base_uri": "https://localhost:8080/"
        },
        "id": "f7x5ltLk2p2u",
        "outputId": "13a57f23-58e7-4bb7-cde6-01e3755f1187"
      },
      "execution_count": null,
      "outputs": [
        {
          "output_type": "stream",
          "name": "stdout",
          "text": [
            "Requirement already satisfied: numpy in /usr/local/lib/python3.10/dist-packages (1.25.2)\n"
          ]
        }
      ]
    },
    {
      "cell_type": "markdown",
      "source": [
        "* You can find numerous useful python packages at https://pypi.org/"
      ],
      "metadata": {
        "id": "IJoKkPbO28OK"
      }
    },
    {
      "cell_type": "markdown",
      "source": [
        "## **Using a package**\n",
        "\n",
        "* To use a package in python, we need to first import it to our code using the `import` and `from` keyword.\n",
        "\n"
      ],
      "metadata": {
        "id": "KDsSepf63E1O"
      }
    },
    {
      "cell_type": "code",
      "source": [
        "from math import sqrt\n",
        "x=3\n",
        "y=4\n",
        "z=sqrt(x**2+y**2)\n",
        "print(z)"
      ],
      "metadata": {
        "colab": {
          "base_uri": "https://localhost:8080/"
        },
        "id": "h4jIJQ2y3IcO",
        "outputId": "996f2be5-61a1-4860-fdbe-a6ca39f8b445"
      },
      "execution_count": null,
      "outputs": [
        {
          "output_type": "stream",
          "name": "stdout",
          "text": [
            "5.0\n"
          ]
        }
      ]
    },
    {
      "cell_type": "markdown",
      "source": [
        "# Numpy"
      ],
      "metadata": {
        "id": "rzCLwoiqUxaC"
      }
    },
    {
      "cell_type": "markdown",
      "source": [
        "Numpy is the core library for scientific computing in Python. It provides a high-performance multidimensional array object, and tools for working with these arrays."
      ],
      "metadata": {
        "id": "Vb_omzkGU68c"
      }
    },
    {
      "cell_type": "markdown",
      "source": [
        "# **Extending Python Using NumPy**\n",
        "\n",
        "* Due to the way that a Python list is implemented, accessing items in a large list is computationally expensive.\n",
        "\n",
        "*   The main problem with the list is that, to allow a list to have non-uniform data types, each item in the list is stored in a memory location, with the list containing an \"array\" of pointers to each of these locations.   \n",
        "*  In NumPy, an array is of type `ndarray` (n-dimensional array), and all the elements must be of the same type.\n",
        "\n"
      ],
      "metadata": {
        "id": "P2Z-oQ9F3oDk"
      }
    },
    {
      "cell_type": "markdown",
      "source": [
        "# Creating NumPy Arrays"
      ],
      "metadata": {
        "id": "sBJjFOK_DJ1u"
      }
    },
    {
      "cell_type": "code",
      "source": [
        "import numpy as np\n",
        "arr=np.array([1,2,3,4,5])\n",
        "print(arr)\n",
        "a1=np.arange(10) #Created a range from 0 to 9\n",
        "print(a1)\n",
        "print(a1.shape)"
      ],
      "metadata": {
        "colab": {
          "base_uri": "https://localhost:8080/"
        },
        "id": "J7WQXKVRDjnm",
        "outputId": "94350dc1-8dcd-4734-c88e-313092580f04"
      },
      "execution_count": null,
      "outputs": [
        {
          "output_type": "stream",
          "name": "stdout",
          "text": [
            "[1 2 3 4 5]\n",
            "[0 1 2 3 4 5 6 7 8 9]\n",
            "(10,)\n"
          ]
        }
      ]
    },
    {
      "cell_type": "markdown",
      "source": [
        "* To create an array of a specific size filled with 0's, we use the zeros() function."
      ],
      "metadata": {
        "id": "K6SLxaxQD_-8"
      }
    },
    {
      "cell_type": "code",
      "source": [
        "a2= np.zeros(5) # Creates an array with all 0's\n",
        "print(a2)\n",
        "print(a2.shape)"
      ],
      "metadata": {
        "id": "FYqsyOkkELrw",
        "colab": {
          "base_uri": "https://localhost:8080/"
        },
        "outputId": "979b218a-bb79-46c6-b1e3-28b0785d3a5b"
      },
      "execution_count": null,
      "outputs": [
        {
          "output_type": "stream",
          "name": "stdout",
          "text": [
            "[0. 0. 0. 0. 0.]\n",
            "(5,)\n"
          ]
        }
      ]
    },
    {
      "cell_type": "markdown",
      "source": [
        "* We can also create two-dimensional arrays using the zeros() function"
      ],
      "metadata": {
        "id": "jLOxpHcmEvHd"
      }
    },
    {
      "cell_type": "code",
      "source": [
        "a3=np.zeros((2,3)) #Array with 2 rows and 3 columns; This array has all zeros.\n",
        "print(a3.shape)\n",
        "print(a3)"
      ],
      "metadata": {
        "colab": {
          "base_uri": "https://localhost:8080/"
        },
        "id": "AUPbYnQ4E374",
        "outputId": "e87810a5-a9be-446b-e635-3f5ee80d4c30"
      },
      "execution_count": null,
      "outputs": [
        {
          "output_type": "stream",
          "name": "stdout",
          "text": [
            "(2, 3)\n",
            "[[0. 0. 0.]\n",
            " [0. 0. 0.]]\n"
          ]
        }
      ]
    },
    {
      "cell_type": "markdown",
      "source": [
        "* If we want an array filled with a specific number instead of 0, use the `full()` function"
      ],
      "metadata": {
        "id": "B8vIoVPPFhrJ"
      }
    },
    {
      "cell_type": "code",
      "source": [
        "a4= np.full((3,3),8)\n",
        "print(a4)"
      ],
      "metadata": {
        "colab": {
          "base_uri": "https://localhost:8080/"
        },
        "id": "fAJOoHnJFwUT",
        "outputId": "bf3f142c-ac76-43a8-ec46-22b7cdcad819"
      },
      "execution_count": null,
      "outputs": [
        {
          "output_type": "stream",
          "name": "stdout",
          "text": [
            "[[8 8 8]\n",
            " [8 8 8]\n",
            " [8 8 8]]\n"
          ]
        }
      ]
    },
    {
      "cell_type": "markdown",
      "source": [
        "* The `eye()` function returns a 2-D array with ones on the diagonal and zeros elsewhere. For eg."
      ],
      "metadata": {
        "id": "bePy-K6mF-hK"
      }
    },
    {
      "cell_type": "code",
      "source": [
        "a5= np.eye(4) # 4x4 identity matrix\n",
        "print(a5)"
      ],
      "metadata": {
        "colab": {
          "base_uri": "https://localhost:8080/"
        },
        "id": "77xXEK-nGKun",
        "outputId": "20019c04-d128-405f-d611-6e08a56d4bc3"
      },
      "execution_count": null,
      "outputs": [
        {
          "output_type": "stream",
          "name": "stdout",
          "text": [
            "[[1. 0. 0. 0.]\n",
            " [0. 1. 0. 0.]\n",
            " [0. 0. 1. 0.]\n",
            " [0. 0. 0. 1.]]\n"
          ]
        }
      ]
    },
    {
      "cell_type": "markdown",
      "source": [
        "* To create an array filled with random numbers, we can use the `random()` function from the `numpy.random` module."
      ],
      "metadata": {
        "id": "76zL4MwkGbvv"
      }
    },
    {
      "cell_type": "code",
      "source": [
        "a6= np.random.random((2,4)) # A 2x4 Array with random values.\n",
        "print(a6)"
      ],
      "metadata": {
        "colab": {
          "base_uri": "https://localhost:8080/"
        },
        "id": "AtF-SzBeGq--",
        "outputId": "d5e31b77-237b-485e-b190-72a12568ad47"
      },
      "execution_count": null,
      "outputs": [
        {
          "output_type": "stream",
          "name": "stdout",
          "text": [
            "[[0.75177    0.84173892 0.96843322 0.64609122]\n",
            " [0.76201016 0.75419792 0.70104698 0.85046856]]\n"
          ]
        }
      ]
    },
    {
      "cell_type": "markdown",
      "source": [
        "\n",
        "# Array Indexing\n",
        "\n",
        "* Accessing elements in the array is similar to accessing elements in a Python List."
      ],
      "metadata": {
        "id": "T-LDxFmxItq3"
      }
    },
    {
      "cell_type": "code",
      "source": [
        "list1= [1,2,3,4,5]\n",
        "list2= [6,7,8,9,0]\n",
        "r1 = np.array([list1,list2])\n",
        "print(r1)\n",
        "print(r1.shape) # 2 rows and 5 columns\n",
        "print(r1[0,0])\n",
        "print(r1[0,1])"
      ],
      "metadata": {
        "colab": {
          "base_uri": "https://localhost:8080/"
        },
        "id": "ZwWS9xzDJF1K",
        "outputId": "e89579e7-6801-4aac-9a5c-56f06bd30c60"
      },
      "execution_count": null,
      "outputs": [
        {
          "output_type": "stream",
          "name": "stdout",
          "text": [
            "[[1 2 3 4 5]\n",
            " [6 7 8 9 0]]\n",
            "(2, 5)\n",
            "1\n",
            "2\n"
          ]
        }
      ]
    },
    {
      "cell_type": "markdown",
      "source": [
        "## Boolean Indexing"
      ],
      "metadata": {
        "id": "X4JtPP8DKOlq"
      }
    },
    {
      "cell_type": "code",
      "source": [
        "r2=np.array(list1)\n",
        "print(r2)\n",
        "print(r2>2) # Prints a list containing boolean values.\n",
        "print(r2[r2>2]) # [3,4,5]\n",
        "\n",
        "#Write a code to list all the odd numbers from a list of numbers using boolean indexing.\n",
        "nums= np.arange(10)\n",
        "print(nums)\n",
        "odd_nums= nums[nums%2==1]\n",
        "print(odd_nums)\n"
      ],
      "metadata": {
        "id": "MUIMqtrbK1Qi",
        "colab": {
          "base_uri": "https://localhost:8080/"
        },
        "outputId": "f3ebbd25-b8ad-4076-9f8a-5f5e4ad992b1"
      },
      "execution_count": null,
      "outputs": [
        {
          "output_type": "stream",
          "name": "stdout",
          "text": [
            "[1 2 3 4 5]\n",
            "[False False  True  True  True]\n",
            "[3 4 5]\n",
            "[0 1 2 3 4 5 6 7 8 9]\n",
            "[1 3 5 7 9]\n"
          ]
        }
      ]
    },
    {
      "cell_type": "markdown",
      "source": [
        "## Slicing Arrays\n",
        "\n",
        "* Very important feature of NumPy, very useful in ML.\n",
        "* Similar to Python List."
      ],
      "metadata": {
        "id": "xSlkMkTlMfi9"
      }
    },
    {
      "cell_type": "code",
      "source": [
        "a=np.array([[1,2,3,4,5],[6,7,8,9,10],[11,12,13,14,15]])\n",
        "print(a)"
      ],
      "metadata": {
        "colab": {
          "base_uri": "https://localhost:8080/"
        },
        "id": "Vfvv6yNCNVBi",
        "outputId": "ea962f06-614d-4aa9-f62f-3961d2cdc202"
      },
      "execution_count": null,
      "outputs": [
        {
          "output_type": "stream",
          "name": "stdout",
          "text": [
            "[[ 1  2  3  4  5]\n",
            " [ 6  7  8  9 10]\n",
            " [11 12 13 14 15]]\n"
          ]
        }
      ]
    },
    {
      "cell_type": "markdown",
      "source": [
        "* Slicing has the syntax: `start:stop`. So for a 2-D array it becomes:  `[start:stop, start:stop]`"
      ],
      "metadata": {
        "id": "xZc9of11NqrX"
      }
    },
    {
      "cell_type": "code",
      "source": [
        "# We will extract the last two rows and the first two columns using slicing.\n",
        "b1 = a[0:,:2] #row 1 to the last row, and the first 2 columns\n",
        "print(b1)\n",
        "\n"
      ],
      "metadata": {
        "colab": {
          "base_uri": "https://localhost:8080/"
        },
        "id": "mbc3X9o6OoAb",
        "outputId": "563d57d8-b484-453e-fa10-8564f2c3984d"
      },
      "execution_count": null,
      "outputs": [
        {
          "output_type": "stream",
          "name": "stdout",
          "text": [
            "[[ 1  2]\n",
            " [ 6  7]\n",
            " [11 12]]\n"
          ]
        }
      ]
    },
    {
      "cell_type": "code",
      "source": [
        "#With negative indexing\n",
        "b2= a[-3:,-5:-3]\n",
        "print(b2)"
      ],
      "metadata": {
        "id": "4SRKyVF7TceD",
        "colab": {
          "base_uri": "https://localhost:8080/"
        },
        "outputId": "8b45f63c-2a93-43ad-9537-4b11d9118f5c"
      },
      "execution_count": null,
      "outputs": [
        {
          "output_type": "stream",
          "name": "stdout",
          "text": [
            "[[ 1  2]\n",
            " [ 6  7]\n",
            " [11 12]]\n"
          ]
        }
      ]
    },
    {
      "cell_type": "markdown",
      "source": [
        "Point to Note: Result of slicing is dependent on how you slice it. For eg.\n"
      ],
      "metadata": {
        "id": "X_to1MF_Tysu"
      }
    },
    {
      "cell_type": "code",
      "source": [
        "b3=a[2:,:] # row 2 onwards and all columns.\n",
        "print(b3)\n",
        "print(b3.shape) # Here the result is rank 2. # Rank is simply the number of dimensions(or axes) an array has"
      ],
      "metadata": {
        "colab": {
          "base_uri": "https://localhost:8080/"
        },
        "id": "SSMpKGboT-Qb",
        "outputId": "7d610ceb-2eb6-4dd1-93ce-46b4c1b614b4"
      },
      "execution_count": null,
      "outputs": [
        {
          "output_type": "stream",
          "name": "stdout",
          "text": [
            "[[11 12 13 14 15]]\n",
            "(1, 5)\n"
          ]
        }
      ]
    },
    {
      "cell_type": "code",
      "source": [
        "b4=a[2,:]\n",
        "print(b4)\n",
        "print(b4.shape)"
      ],
      "metadata": {
        "colab": {
          "base_uri": "https://localhost:8080/"
        },
        "id": "mw_DaX9-U9Ke",
        "outputId": "9bfe355b-6008-4d87-ca29-f9266f4747bf"
      },
      "execution_count": null,
      "outputs": [
        {
          "output_type": "stream",
          "name": "stdout",
          "text": [
            "[11 12 13 14 15]\n",
            "(5,)\n"
          ]
        }
      ]
    },
    {
      "cell_type": "markdown",
      "source": [
        "## Reshaping the Arrays\n",
        "\n",
        "* You can reshape the arrays to other dimensions using the `reshape()` keyword."
      ],
      "metadata": {
        "id": "UzASH7zsVIaN"
      }
    },
    {
      "cell_type": "code",
      "source": [
        "b4 = b4.reshape(-1,1) # First arguement indicates the number of rows.\n",
        "                      # -1 indicates that we leave it to the reshape() function to create the correct number of columns.\n",
        "                      # You can also specify the number of columns in the second argument\n",
        "print(b4)\n",
        "print(b4.shape)"
      ],
      "metadata": {
        "colab": {
          "base_uri": "https://localhost:8080/"
        },
        "id": "sRAwh3P5VVwS",
        "outputId": "425af519-c93d-42ae-aa79-c4003ca38afa"
      },
      "execution_count": null,
      "outputs": [
        {
          "output_type": "stream",
          "name": "stdout",
          "text": [
            "[[11]\n",
            " [12]\n",
            " [13]\n",
            " [14]\n",
            " [15]]\n",
            "(5, 1)\n"
          ]
        }
      ]
    },
    {
      "cell_type": "markdown",
      "source": [
        "## Broadcasting"
      ],
      "metadata": {
        "id": "XgRTJ4ZiTjEM"
      }
    },
    {
      "cell_type": "markdown",
      "source": [
        "Broadcasting is a powerful mechanism that allows numpy to work with arrays of different shapes when performing arithmetic operations. Frequently we have a smaller array and a larger array, and we want to use the smaller array multiple times to perform some operation on the larger array.\n",
        "\n",
        "For example"
      ],
      "metadata": {
        "id": "DtxFuG2ITvGO"
      }
    },
    {
      "cell_type": "code",
      "source": [
        "# Given a matrix X which is (nx1), we want to make a matrix such that\n",
        "''' [1, x1, (x1)^2, (x1)^3, ......, (xn)^n\n",
        "     1, x2, (x2)^2, (x2)^3, ......, (xn)^n\n",
        "     ...................\n",
        "     .\n",
        "     .\n",
        "     .\n",
        "     .\n",
        "     .\n",
        "     1, xn, (xn)^2, (xn)^3, ......., (xn)^n]\n",
        "'''\n",
        "#Give a Brute Force Approach using for l\n",
        "\n",
        "\n",
        "X = np.array([1,2,3,4,5]).reshape(5,1)\n",
        "print(X.shape)\n",
        "pow = np.arange(0,len(X))\n",
        "mat = X ** pow\n",
        "print(mat)"
      ],
      "metadata": {
        "colab": {
          "base_uri": "https://localhost:8080/"
        },
        "id": "vsJSTBvmTisE",
        "outputId": "b69ec881-fe70-4d7e-8d79-c1f4ab416864"
      },
      "execution_count": null,
      "outputs": [
        {
          "output_type": "stream",
          "name": "stdout",
          "text": [
            "(5, 1)\n",
            "[[  1   1   1   1   1]\n",
            " [  1   2   4   8  16]\n",
            " [  1   3   9  27  81]\n",
            " [  1   4  16  64 256]\n",
            " [  1   5  25 125 625]]\n"
          ]
        }
      ]
    },
    {
      "cell_type": "markdown",
      "source": [
        "## Coding Problem-4\n"
      ],
      "metadata": {
        "id": "GhSlD4_2Uqm1"
      }
    },
    {
      "cell_type": "code",
      "source": [
        "## Write a program that creates a 3x3 matrix with values ranging from 1 to 9. Then, modify the matrix by doubling the values of the second row.\n",
        "\n",
        "# Your Code here.\n",
        "\n",
        "matrix = [[1, 2, 3],\n",
        "          [4, 5, 6],\n",
        "          [7, 8, 9]]\n",
        "print(\"Initial Matrix:\")\n",
        "\n",
        "for i in matrix:\n",
        "    print(i)\n",
        "matrix[1] = [2 * element for element in matrix[1]]\n",
        "\n",
        "print(\"\\nModified Matrix (doubling values of the second row):\")\n",
        "for i in matrix:\n",
        "    print(i)\n"
      ],
      "metadata": {
        "id": "86bEejFgUt0P",
        "colab": {
          "base_uri": "https://localhost:8080/"
        },
        "outputId": "00e6d7c5-f8cd-413b-a063-27fb52251efb"
      },
      "execution_count": 12,
      "outputs": [
        {
          "output_type": "stream",
          "name": "stdout",
          "text": [
            "Initial Matrix:\n",
            "[1, 2, 3]\n",
            "[4, 5, 6]\n",
            "[7, 8, 9]\n",
            "\n",
            "Modified Matrix (doubling values of the second row):\n",
            "[1, 2, 3]\n",
            "[8, 10, 12]\n",
            "[7, 8, 9]\n"
          ]
        }
      ]
    },
    {
      "cell_type": "markdown",
      "source": [
        "# **Let's Code: Hangman Game**\n",
        "\n",
        "> Hangman is a simple paper-pencil, word-guessing game where the player must guess the given word within a certain number of guesses.\n",
        "Let's code a simple hangman game in python!\n",
        "\n"
      ],
      "metadata": {
        "id": "pXr5obr4KcwE"
      }
    },
    {
      "cell_type": "code",
      "source": [
        "import random\n",
        "\n",
        "fig = [\"\\n ____\\n|     \\n|    O\\n|       \\n|     \\n|       \\n\",\n",
        "       \"\\n ____\\n|     \\n|    O\\n|    |  \\n|    |\\n|       \\n\",\n",
        "       \"\\n ____\\n|     \\n|    O\\n|   /|  \\n|    |\\n|       \\n\",\n",
        "       \"\\n ____\\n|     \\n|    O\\n|   /|\\\\\\n|    |\\n|       \\n\",\n",
        "       \"\\n ____\\n|     \\n|    O\\n|   /|\\\\\\n|    |\\n|   /   \\n\",\n",
        "       \"\\n ____\\n|     \\n|    O\\n|   /|\\\\\\n|    |\\n|   / \\\\\\n\",\n",
        "       \"\\n ____\\n|    |\\n|    O\\n|   /|\\\\\\n|    |\\n|   / \\\\\\n\"]\n",
        "\n",
        "\n",
        "# Your Code here. Please avoid using Chat-GPT :)\n",
        "# Brownie points for those who will implement the game using Object Oriented Programming Concepts.\n",
        "\n",
        "import random\n",
        "\n",
        "# List of words for the game\n",
        "words = [\"apple\", \"banana\", \"orange\", \"grape\", \"strawberry\", \"pineapple\"]\n",
        "\n",
        "def choose_word(words):\n",
        "    return random.choice(words)\n",
        "\n",
        "def display_word(word, guessed_letters):\n",
        "    display = \"\"\n",
        "    for letter in word:\n",
        "        if letter in guessed_letters:\n",
        "            display += letter\n",
        "        else:\n",
        "            display += \"-\"\n",
        "    return display\n",
        "\n",
        "def hangman():\n",
        "    print(\"Welcome to Hangman!\")\n",
        "    word = choose_word(words)\n",
        "\n",
        "    guessed_letters = []\n",
        "    attempts = 6  # Number of attempts allowed\n",
        "\n",
        "    while attempts > 0:\n",
        "        print(\"\\nWord:\", display_word(word, guessed_letters))\n",
        "        print(\"Attempts left:\", attempts)\n",
        "\n",
        "        guess = input(\"Guess a letter: \").lower()\n",
        "\n",
        "        # Check if the guess is a single letter\n",
        "        if len(guess) != 1 or not guess.isalpha():\n",
        "            print(\"Please enter a single letter.\")\n",
        "            continue\n",
        "\n",
        "        # Check if the letter has already been guessed\n",
        "        if guess in guessed_letters:\n",
        "            print(\"You've already guessed that letter.\")\n",
        "            continue\n",
        "\n",
        "        # Add the guess to the list of guessed letters\n",
        "        guessed_letters.append(guess)\n",
        "\n",
        "        # Check if the guess is in the word\n",
        "        if guess in word:\n",
        "            print(\"Good guess!\")\n",
        "\n",
        "            # Check if the player has guessed all the letters\n",
        "            if set(word) == set(guessed_letters):\n",
        "                print(\"\\nCongratulations! You've guessed the word:\", word)\n",
        "                break\n",
        "        else:\n",
        "            print(\"Incorrect guess.\")\n",
        "            attempts -= 1\n",
        "\n",
        "    else:\n",
        "        print(\"\\nSorry, you've run out of attempts. The word was:\", word)\n",
        "\n",
        "# Play the game\n",
        "hangman()"
      ],
      "metadata": {
        "id": "soq8soYLKg4g",
        "colab": {
          "base_uri": "https://localhost:8080/"
        },
        "outputId": "c66ad210-9a2f-417b-8513-232211196db1"
      },
      "execution_count": 1,
      "outputs": [
        {
          "output_type": "stream",
          "name": "stdout",
          "text": [
            "Welcome to Hangman!\n",
            "\n",
            "Word: ------\n",
            "Attempts left: 6\n",
            "Guess a letter: p\n",
            "Incorrect guess.\n",
            "\n",
            "Word: ------\n",
            "Attempts left: 5\n",
            "Guess a letter: a\n",
            "Good guess!\n",
            "\n",
            "Word: --a---\n",
            "Attempts left: 5\n",
            "Guess a letter: i\n",
            "Incorrect guess.\n",
            "\n",
            "Word: --a---\n",
            "Attempts left: 4\n",
            "Guess a letter: g\n",
            "Good guess!\n",
            "\n",
            "Word: --a-g-\n",
            "Attempts left: 4\n",
            "Guess a letter: e\n",
            "Good guess!\n",
            "\n",
            "Word: --a-ge\n",
            "Attempts left: 4\n",
            "Guess a letter: o\n",
            "Good guess!\n",
            "\n",
            "Word: o-a-ge\n",
            "Attempts left: 4\n",
            "Guess a letter: r\n",
            "Good guess!\n",
            "\n",
            "Word: ora-ge\n",
            "Attempts left: 4\n",
            "Guess a letter: n\n",
            "Good guess!\n",
            "\n",
            "Word: orange\n",
            "Attempts left: 4\n",
            "Guess a letter: d\n",
            "Incorrect guess.\n",
            "\n",
            "Word: orange\n",
            "Attempts left: 3\n",
            "Guess a letter: l\n",
            "Incorrect guess.\n",
            "\n",
            "Word: orange\n",
            "Attempts left: 2\n",
            "Guess a letter: m\n",
            "Incorrect guess.\n",
            "\n",
            "Word: orange\n",
            "Attempts left: 1\n",
            "Guess a letter: k\n",
            "Incorrect guess.\n",
            "\n",
            "Sorry, you've run out of attempts. The word was: orange\n"
          ]
        }
      ]
    },
    {
      "cell_type": "markdown",
      "source": [
        "For more examples on python and numpy, you can also go through the following tutorial.\n",
        "\n",
        "https://cs231n.github.io/python-numpy-tutorial/\n"
      ],
      "metadata": {
        "id": "p2ZI_dZfdZ1Q"
      }
    }
  ]
}